{
 "cells": [
  {
   "cell_type": "code",
   "execution_count": 1,
   "id": "95c0f49d-de6a-484d-b294-a05beae31d11",
   "metadata": {},
   "outputs": [],
   "source": [
    "from datasets import load_dataset\n",
    "\n",
    "dataset = load_dataset(\"multi_nli\")\n"
   ]
  },
  {
   "cell_type": "code",
   "execution_count": 2,
   "id": "52c4a695-d148-4552-a7b0-b7f15a2759d1",
   "metadata": {},
   "outputs": [
    {
     "name": "stdout",
     "output_type": "stream",
     "text": [
      "{'promptID': 31193, 'pairID': '31193n', 'premise': 'Conceptually cream skimming has two basic dimensions - product and geography.', 'premise_binary_parse': '( ( Conceptually ( cream skimming ) ) ( ( has ( ( ( two ( basic dimensions ) ) - ) ( ( product and ) geography ) ) ) . ) )', 'premise_parse': '(ROOT (S (NP (JJ Conceptually) (NN cream) (NN skimming)) (VP (VBZ has) (NP (NP (CD two) (JJ basic) (NNS dimensions)) (: -) (NP (NN product) (CC and) (NN geography)))) (. .)))', 'hypothesis': 'Product and geography are what make cream skimming work. ', 'hypothesis_binary_parse': '( ( ( Product and ) geography ) ( ( are ( what ( make ( cream ( skimming work ) ) ) ) ) . ) )', 'hypothesis_parse': '(ROOT (S (NP (NN Product) (CC and) (NN geography)) (VP (VBP are) (SBAR (WHNP (WP what)) (S (VP (VBP make) (NP (NP (NN cream)) (VP (VBG skimming) (NP (NN work)))))))) (. .)))', 'genre': 'government', 'label': 1}\n"
     ]
    }
   ],
   "source": [
    "print(dataset['train'][0])  # To understand the structure\n"
   ]
  },
  {
   "cell_type": "code",
   "execution_count": 3,
   "id": "a1dfe889-ab34-4c6c-8f89-4db3bd5e6e50",
   "metadata": {},
   "outputs": [
    {
     "data": {
      "application/vnd.jupyter.widget-view+json": {
       "model_id": "83dc1159ef23430398f9266982efb5c6",
       "version_major": 2,
       "version_minor": 0
      },
      "text/plain": [
       "config.json:   0%|          | 0.00/1.15k [00:00<?, ?B/s]"
      ]
     },
     "metadata": {},
     "output_type": "display_data"
    },
    {
     "name": "stderr",
     "output_type": "stream",
     "text": [
      "d:\\anaconda3\\lib\\site-packages\\huggingface_hub\\file_download.py:149: UserWarning: `huggingface_hub` cache-system uses symlinks by default to efficiently store duplicated files but your machine does not support them in C:\\Users\\johnny\\.cache\\huggingface\\hub\\models--facebook--bart-large-mnli. Caching files will still work but in a degraded version that might require more space on your disk. This warning can be disabled by setting the `HF_HUB_DISABLE_SYMLINKS_WARNING` environment variable. For more details, see https://huggingface.co/docs/huggingface_hub/how-to-cache#limitations.\n",
      "To support symlinks on Windows, you either need to activate Developer Mode or to run Python as an administrator. In order to see activate developer mode, see this article: https://docs.microsoft.com/en-us/windows/apps/get-started/enable-your-device-for-development\n",
      "  warnings.warn(message)\n"
     ]
    },
    {
     "data": {
      "application/vnd.jupyter.widget-view+json": {
       "model_id": "6c05850334d343f7b2c9fe7900892858",
       "version_major": 2,
       "version_minor": 0
      },
      "text/plain": [
       "model.safetensors:   0%|          | 0.00/1.63G [00:00<?, ?B/s]"
      ]
     },
     "metadata": {},
     "output_type": "display_data"
    },
    {
     "data": {
      "application/vnd.jupyter.widget-view+json": {
       "model_id": "c62c15ba1b284cd797f7e643fabb1e02",
       "version_major": 2,
       "version_minor": 0
      },
      "text/plain": [
       "tokenizer_config.json:   0%|          | 0.00/26.0 [00:00<?, ?B/s]"
      ]
     },
     "metadata": {},
     "output_type": "display_data"
    },
    {
     "data": {
      "application/vnd.jupyter.widget-view+json": {
       "model_id": "0f4ea1b3e79c4a8b89db0ad3d5dd21d7",
       "version_major": 2,
       "version_minor": 0
      },
      "text/plain": [
       "vocab.json:   0%|          | 0.00/899k [00:00<?, ?B/s]"
      ]
     },
     "metadata": {},
     "output_type": "display_data"
    },
    {
     "data": {
      "application/vnd.jupyter.widget-view+json": {
       "model_id": "547e0dd55613443cb599441265194d07",
       "version_major": 2,
       "version_minor": 0
      },
      "text/plain": [
       "merges.txt:   0%|          | 0.00/456k [00:00<?, ?B/s]"
      ]
     },
     "metadata": {},
     "output_type": "display_data"
    },
    {
     "data": {
      "application/vnd.jupyter.widget-view+json": {
       "model_id": "7e76caeca37842668d1a1162f2f05c9e",
       "version_major": 2,
       "version_minor": 0
      },
      "text/plain": [
       "tokenizer.json:   0%|          | 0.00/1.36M [00:00<?, ?B/s]"
      ]
     },
     "metadata": {},
     "output_type": "display_data"
    },
    {
     "ename": "NameError",
     "evalue": "name 'df_sentences' is not defined",
     "output_type": "error",
     "traceback": [
      "\u001b[1;31m---------------------------------------------------------------------------\u001b[0m",
      "\u001b[1;31mNameError\u001b[0m                                 Traceback (most recent call last)",
      "Cell \u001b[1;32mIn[3], line 19\u001b[0m\n\u001b[0;32m     16\u001b[0m     \u001b[38;5;28;01mreturn\u001b[39;00m results[\u001b[38;5;241m0\u001b[39m][\u001b[38;5;124m'\u001b[39m\u001b[38;5;124mlabel\u001b[39m\u001b[38;5;124m'\u001b[39m]\n\u001b[0;32m     18\u001b[0m \u001b[38;5;66;03m# Apply the function to your dataframe\u001b[39;00m\n\u001b[1;32m---> 19\u001b[0m df_sentences[\u001b[38;5;124m'\u001b[39m\u001b[38;5;124mpremise\u001b[39m\u001b[38;5;124m'\u001b[39m] \u001b[38;5;241m=\u001b[39m \u001b[43mdf_sentences\u001b[49m[\u001b[38;5;124m'\u001b[39m\u001b[38;5;124msentence\u001b[39m\u001b[38;5;124m'\u001b[39m]\u001b[38;5;241m.\u001b[39mapply(generate_premise)\n",
      "\u001b[1;31mNameError\u001b[0m: name 'df_sentences' is not defined"
     ]
    }
   ],
   "source": [
    "import pandas as pd\n",
    "from transformers import pipeline\n",
    "\n",
    "# Suppose df_sentences is your existing DataFrame\n",
    "# df_sentences = pd.DataFrame({'sentence': ['Your sentence here', 'Another sentence here']})\n",
    "\n",
    "# Load a pre-trained entailment model from Hugging Face\n",
    "nli_model = pipeline('text-classification', model='facebook/bart-large-mnli')\n",
    "\n",
    "# Define a function to use the model for generating premises\n",
    "def generate_premise(sentence):\n",
    "    # For demonstration, this just classifies a sentence without generating a new one\n",
    "    # In practice, you'd have a more sophisticated approach to generate or extract a premise\n",
    "    results = nli_model(sentence)\n",
    "    # Just returning the label here for simplicity, but you should tailor it to your needs\n",
    "    return results[0]['label']\n",
    "\n",
    "# Apply the function to your dataframe\n",
    "#df_sentences['premise'] = df_sentences['sentence'].apply(generate_premise)\n",
    "\n",
    "# Now, df_sentences will have a new 'premise' column with the model's inference\n"
   ]
  },
  {
   "cell_type": "code",
   "execution_count": 4,
   "id": "3c53082d-effe-4e22-83fc-c26909a747c2",
   "metadata": {},
   "outputs": [
    {
     "name": "stdout",
     "output_type": "stream",
     "text": [
      "D:\\downloads\\amazon_customer_reviews\n"
     ]
    }
   ],
   "source": [
    "#download_dir = 'D:\\\\downloads'\n",
    "download_dir = 'D:\\\\downloads\\\\amazon_customer_reviews'\n",
    "print(download_dir)"
   ]
  },
  {
   "cell_type": "code",
   "execution_count": 8,
   "id": "c37fd91a-2221-4afe-92a0-e19a52fd617b",
   "metadata": {},
   "outputs": [],
   "source": [
    "import os"
   ]
  },
  {
   "cell_type": "code",
   "execution_count": 12,
   "id": "e17b1bd5-536f-4fd0-a780-e68d3da6d5c3",
   "metadata": {},
   "outputs": [
    {
     "data": {
      "text/plain": [
       "['4ee3300b-8d78-46ac-8abf-72edb1f4f5db',\n",
       " 'amazon_categories.csv',\n",
       " 'amazon_products.csv',\n",
       " 'Amazon_products.zip',\n",
       " 'amazon_product_data',\n",
       " 'amazon_product_data.zip',\n",
       " 'amazon_reviews_pickle_paragraphs.pkl',\n",
       " 'amazon_reviews_pickle_paragraphs.xlsx',\n",
       " 'amazon_reviews_pickle_paragraphs_20240129.pkl',\n",
       " 'amazon_reviews_pickle_paragraphs_20240219.pkl',\n",
       " 'amazon_reviews_pickle_paragraphs_20240219.xlsx',\n",
       " 'amazon_reviews_pickle_paragraphs_similarity_20240219.pkl',\n",
       " 'amazon_reviews_pickle_paragraphs_similarity_reduced_20240219.pkl',\n",
       " 'amazon_reviews_pickle_sentences',\n",
       " 'amazon_reviews_pickle_sentences_20240129.pkl',\n",
       " 'amazon_reviews_pickle_sentences_20240219.pkl',\n",
       " 'amazon_reviews_pickle_sentences_similarity_20240219.pkl',\n",
       " 'amazon_reviews_pickle_sentences_similarity_20240219_index_paragraph.faiss',\n",
       " 'amazon_reviews_pickle_sentences_similarity_20240219_index_sentence.faiss',\n",
       " 'amazon_reviews_pickle_sentences_similarity_20240219_index_summary.faiss',\n",
       " 'chroma.sqlite3',\n",
       " 'Reviews.csv',\n",
       " 'selected_paragraphs_for_annotation.xlsx',\n",
       " '~$selected_paragraphs_for_annotation.xlsx']"
      ]
     },
     "execution_count": 12,
     "metadata": {},
     "output_type": "execute_result"
    }
   ],
   "source": [
    "os.listdir(download_dir)"
   ]
  },
  {
   "cell_type": "code",
   "execution_count": 14,
   "id": "7430ae60-dbd9-4535-b72e-cff4e88adee7",
   "metadata": {},
   "outputs": [],
   "source": [
    "df_sentence_filename = os.path.join(download_dir,\"amazon_reviews_pickle_sentences_20240219.pkl\")\n",
    "df_sentence = pd.read_pickle(df_sentence_filename)"
   ]
  },
  {
   "cell_type": "code",
   "execution_count": 15,
   "id": "08aebbb4-5b96-47f2-8a47-d09927ae5e4e",
   "metadata": {},
   "outputs": [
    {
     "data": {
      "text/plain": [
       "'D:\\\\github'"
      ]
     },
     "execution_count": 15,
     "metadata": {},
     "output_type": "execute_result"
    }
   ],
   "source": [
    "os.getcwd()"
   ]
  },
  {
   "cell_type": "code",
   "execution_count": null,
   "id": "25415f75-45a2-4dbd-8a03-50201f08f72e",
   "metadata": {},
   "outputs": [],
   "source": [
    "#df_pickle_filename = os.path.join(download_dir,\"amazon_reviews_pickle_paragraphs_20240219.pkl\")\n",
    "df_paragraph_filename = os.path.join(download_dir,\"amazon_reviews_pickle_paragraphs_similarity_20240219.pkl\")\n",
    "print(df_paragraph_filename)\n",
    "df_paragraph = pd.read_pickle(df_paragraph_filename)\n"
   ]
  },
  {
   "cell_type": "code",
   "execution_count": null,
   "id": "b4eb3460-7847-4119-8128-b7f7ab956a29",
   "metadata": {},
   "outputs": [],
   "source": [
    "#df_pickle_filename = os.path.join(download_dir,\"amazon_reviews_pickle_paragraphs_similarity_20240219.pkl\")\n",
    "\n",
    "df_pickle_reduced_filename = os.path.join(download_dir,\"amazon_reviews_pickle_paragraphs_similarity_reduced_20240219.pkl\")\n",
    "\n",
    "df_paragraph_reduced = pd.read_pickle(df_pickle_reduced_filename )"
   ]
  }
 ],
 "metadata": {
  "kernelspec": {
   "display_name": "Python 3 (ipykernel)",
   "language": "python",
   "name": "python3"
  },
  "language_info": {
   "codemirror_mode": {
    "name": "ipython",
    "version": 3
   },
   "file_extension": ".py",
   "mimetype": "text/x-python",
   "name": "python",
   "nbconvert_exporter": "python",
   "pygments_lexer": "ipython3",
   "version": "3.9.18"
  }
 },
 "nbformat": 4,
 "nbformat_minor": 5
}
