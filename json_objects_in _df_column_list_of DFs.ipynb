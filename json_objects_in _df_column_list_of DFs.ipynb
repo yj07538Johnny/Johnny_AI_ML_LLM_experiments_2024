{
 "cells": [
  {
   "cell_type": "code",
   "execution_count": 1,
   "id": "e098e268-8a86-4021-a645-353a17d34d31",
   "metadata": {},
   "outputs": [],
   "source": [
    "import json\n",
    "\n",
    "# Assuming 'json_string_data' is a column with JSON strings\n",
    "# df['json_string_data'] = df['json_string_data'].apply(json.loads)\n"
   ]
  },
  {
   "cell_type": "code",
   "execution_count": null,
   "id": "ad0f1cca-ded6-407f-8ba3-d209ac300717",
   "metadata": {},
   "outputs": [],
   "source": []
  },
  {
   "cell_type": "code",
   "execution_count": 2,
   "id": "4ad7c043-94be-432a-a5c5-36292c0dfe3d",
   "metadata": {},
   "outputs": [
    {
     "data": {
      "text/html": [
       "<div>\n",
       "<style scoped>\n",
       "    .dataframe tbody tr th:only-of-type {\n",
       "        vertical-align: middle;\n",
       "    }\n",
       "\n",
       "    .dataframe tbody tr th {\n",
       "        vertical-align: top;\n",
       "    }\n",
       "\n",
       "    .dataframe thead th {\n",
       "        text-align: right;\n",
       "    }\n",
       "</style>\n",
       "<table border=\"1\" class=\"dataframe\">\n",
       "  <thead>\n",
       "    <tr style=\"text-align: right;\">\n",
       "      <th></th>\n",
       "      <th>structured_data</th>\n",
       "    </tr>\n",
       "  </thead>\n",
       "  <tbody>\n",
       "    <tr>\n",
       "      <th>0</th>\n",
       "      <td>[{'name': 'John', 'age': 30, 'city': 'New York...</td>\n",
       "    </tr>\n",
       "    <tr>\n",
       "      <th>1</th>\n",
       "      <td>[{'name': 'Sara', 'age': 28, 'city': 'London'}...</td>\n",
       "    </tr>\n",
       "    <tr>\n",
       "      <th>2</th>\n",
       "      <td>[{'name': 'Eva', 'age': 29, 'city': 'Madrid'},...</td>\n",
       "    </tr>\n",
       "    <tr>\n",
       "      <th>3</th>\n",
       "      <td>[{'name': 'Tom', 'age': 33, 'city': 'Miami'}, ...</td>\n",
       "    </tr>\n",
       "  </tbody>\n",
       "</table>\n",
       "</div>"
      ],
      "text/plain": [
       "                                     structured_data\n",
       "0  [{'name': 'John', 'age': 30, 'city': 'New York...\n",
       "1  [{'name': 'Sara', 'age': 28, 'city': 'London'}...\n",
       "2  [{'name': 'Eva', 'age': 29, 'city': 'Madrid'},...\n",
       "3  [{'name': 'Tom', 'age': 33, 'city': 'Miami'}, ..."
      ]
     },
     "execution_count": 2,
     "metadata": {},
     "output_type": "execute_result"
    }
   ],
   "source": [
    "# Re-import pandas after the code execution state was reset\n",
    "import pandas as pd\n",
    "\n",
    "# Generate a sample DataFrame with 4 rows of data, each cell containing a list of dictionaries\n",
    "structured_data_list = [\n",
    "    [{\"name\": \"John\", \"age\": 30, \"city\": \"New York\"},\n",
    "     {\"name\": \"Anna\", \"age\": 22, \"city\": \"Berlin\"},\n",
    "     {\"name\": \"Mike\", \"age\": 32, \"city\": \"San Francisco\"}],\n",
    "    [{\"name\": \"Sara\", \"age\": 28, \"city\": \"London\"},\n",
    "     {\"name\": \"Alex\", \"age\": 21, \"city\": \"Moscow\"},\n",
    "     {\"name\": \"Linda\", \"age\": 35, \"city\": \"Paris\"}],\n",
    "    [{\"name\": \"Eva\", \"age\": 29, \"city\": \"Madrid\"},\n",
    "     {\"name\": \"Sam\", \"age\": 31, \"city\": \"Rome\"},\n",
    "     {\"name\": \"Lucy\", \"age\": 26, \"city\": \"Chicago\"}],\n",
    "    [{\"name\": \"Tom\", \"age\": 33, \"city\": \"Miami\"},\n",
    "     {\"name\": \"Jenny\", \"age\": 25, \"city\": \"Tokyo\"},\n",
    "     {\"name\": \"Chris\", \"age\": 34, \"city\": \"Sydney\"}]\n",
    "]\n",
    "\n",
    "# Create a DataFrame\n",
    "df_structured = pd.DataFrame({'structured_data': structured_data_list})\n",
    "\n",
    "df_structured\n"
   ]
  },
  {
   "cell_type": "code",
   "execution_count": 3,
   "id": "00b09819-929e-40c5-b04e-79374049ab6a",
   "metadata": {},
   "outputs": [
    {
     "name": "stdout",
     "output_type": "stream",
     "text": [
      "DataFrame from row 0:\n",
      "   name  age           city\n",
      "0  John   30       New York\n",
      "1  Anna   22         Berlin\n",
      "2  Mike   32  San Francisco\n",
      "\n",
      "DataFrame from row 1:\n",
      "    name  age    city\n",
      "0   Sara   28  London\n",
      "1   Alex   21  Moscow\n",
      "2  Linda   35   Paris\n",
      "\n",
      "DataFrame from row 2:\n",
      "   name  age     city\n",
      "0   Eva   29   Madrid\n",
      "1   Sam   31     Rome\n",
      "2  Lucy   26  Chicago\n",
      "\n",
      "DataFrame from row 3:\n",
      "    name  age    city\n",
      "0    Tom   33   Miami\n",
      "1  Jenny   25   Tokyo\n",
      "2  Chris   34  Sydney\n",
      "\n"
     ]
    },
    {
     "data": {
      "text/html": [
       "<div>\n",
       "<style scoped>\n",
       "    .dataframe tbody tr th:only-of-type {\n",
       "        vertical-align: middle;\n",
       "    }\n",
       "\n",
       "    .dataframe tbody tr th {\n",
       "        vertical-align: top;\n",
       "    }\n",
       "\n",
       "    .dataframe thead th {\n",
       "        text-align: right;\n",
       "    }\n",
       "</style>\n",
       "<table border=\"1\" class=\"dataframe\">\n",
       "  <thead>\n",
       "    <tr style=\"text-align: right;\">\n",
       "      <th></th>\n",
       "      <th>name</th>\n",
       "      <th>age</th>\n",
       "      <th>city</th>\n",
       "    </tr>\n",
       "  </thead>\n",
       "  <tbody>\n",
       "    <tr>\n",
       "      <th>0</th>\n",
       "      <td>John</td>\n",
       "      <td>30</td>\n",
       "      <td>New York</td>\n",
       "    </tr>\n",
       "    <tr>\n",
       "      <th>1</th>\n",
       "      <td>Anna</td>\n",
       "      <td>22</td>\n",
       "      <td>Berlin</td>\n",
       "    </tr>\n",
       "    <tr>\n",
       "      <th>2</th>\n",
       "      <td>Mike</td>\n",
       "      <td>32</td>\n",
       "      <td>San Francisco</td>\n",
       "    </tr>\n",
       "  </tbody>\n",
       "</table>\n",
       "</div>"
      ],
      "text/plain": [
       "   name  age           city\n",
       "0  John   30       New York\n",
       "1  Anna   22         Berlin\n",
       "2  Mike   32  San Francisco"
      ]
     },
     "execution_count": 3,
     "metadata": {},
     "output_type": "execute_result"
    }
   ],
   "source": [
    "# Iterate over the DataFrame to evaluate each row of structured_data as a DataFrame\n",
    "\n",
    "# This will store the resulting DataFrames in a list for demonstration\n",
    "list_of_dfs = []\n",
    "\n",
    "for index, row in df_structured.iterrows():\n",
    "    # Convert each list of dictionaries to a DataFrame\n",
    "    temp_df = pd.DataFrame(row['structured_data'])\n",
    "    # Append the newly created DataFrame to the list\n",
    "    list_of_dfs.append(temp_df)\n",
    "    # For demonstration, print the DataFrame\n",
    "    print(f\"DataFrame from row {index}:\\n{temp_df}\\n\")\n",
    "\n",
    "# Now, 'list_of_dfs' contains all the DataFrames created from each row's structured_data\n",
    "# Example: Access the first DataFrame created from the first row's structured_data\n",
    "first_df = list_of_dfs[0]\n",
    "first_df\n"
   ]
  },
  {
   "cell_type": "code",
   "execution_count": 4,
   "id": "ad7a0b70-fff4-4a24-99c8-de3ec316515c",
   "metadata": {},
   "outputs": [
    {
     "name": "stdout",
     "output_type": "stream",
     "text": [
      "DataFrame 0 shape: (3, 3)\n",
      "   name  age           city\n",
      "0  John   30       New York\n",
      "1  Anna   22         Berlin\n",
      "2  Mike   32  San Francisco \n",
      "\n",
      "DataFrame 1 shape: (3, 3)\n",
      "    name  age    city\n",
      "0   Sara   28  London\n",
      "1   Alex   21  Moscow\n",
      "2  Linda   35   Paris \n",
      "\n",
      "DataFrame 2 shape: (3, 3)\n",
      "   name  age     city\n",
      "0   Eva   29   Madrid\n",
      "1   Sam   31     Rome\n",
      "2  Lucy   26  Chicago \n",
      "\n",
      "DataFrame 3 shape: (3, 3)\n",
      "    name  age    city\n",
      "0    Tom   33   Miami\n",
      "1  Jenny   25   Tokyo\n",
      "2  Chris   34  Sydney \n",
      "\n"
     ]
    }
   ],
   "source": [
    "# Iterate over the list of DataFrames and perform operations\n",
    "for i, df in enumerate(list_of_dfs):\n",
    "    # Example operation: print the shape of each DataFrame\n",
    "    print(f\"DataFrame {i} shape: {df.shape}\")\n",
    "    # Perform other operations or analyses as needed\n",
    "    # For instance, you can print the DataFrame to see its content\n",
    "    print(df, \"\\n\")\n"
   ]
  },
  {
   "cell_type": "code",
   "execution_count": null,
   "id": "6f5f09e8-53b8-4a5a-9f67-b896211c5e44",
   "metadata": {},
   "outputs": [],
   "source": []
  }
 ],
 "metadata": {
  "kernelspec": {
   "display_name": "Python 3 (ipykernel)",
   "language": "python",
   "name": "python3"
  },
  "language_info": {
   "codemirror_mode": {
    "name": "ipython",
    "version": 3
   },
   "file_extension": ".py",
   "mimetype": "text/x-python",
   "name": "python",
   "nbconvert_exporter": "python",
   "pygments_lexer": "ipython3",
   "version": "3.9.18"
  }
 },
 "nbformat": 4,
 "nbformat_minor": 5
}
