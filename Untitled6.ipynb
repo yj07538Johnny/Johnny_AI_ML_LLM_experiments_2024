{
 "cells": [
  {
   "cell_type": "code",
   "execution_count": 3,
   "id": "870c2801-0277-4e31-a9c1-e8f082f2e304",
   "metadata": {},
   "outputs": [
    {
     "name": "stderr",
     "output_type": "stream",
     "text": [
      "[nltk_data] Downloading package punkt to\n",
      "[nltk_data]     C:\\Users\\johnny\\AppData\\Roaming\\nltk_data...\n",
      "[nltk_data]   Package punkt is already up-to-date!\n"
     ]
    },
    {
     "data": {
      "text/plain": [
       "True"
      ]
     },
     "execution_count": 3,
     "metadata": {},
     "output_type": "execute_result"
    }
   ],
   "source": [
    "import os\n",
    "import pandas as pd\n",
    "from datetime import datetime\n",
    "import numpy as np\n",
    "import nltk\n",
    "import torch\n",
    "from io import BytesIO\n",
    "\n",
    "from tqdm.notebook import tqdm\n",
    "\n",
    "from transformers import BertTokenizer, BertModel\n",
    "from transformers import AutoModel, AutoTokenizer\n",
    "\n",
    "# Ensure that the Punkt Tokenizer Models are downloaded\n",
    "nltk.download('punkt')\n"
   ]
  },
  {
   "cell_type": "code",
   "execution_count": 4,
   "id": "67c690b1-7e25-42a6-837f-a075fc49b43c",
   "metadata": {},
   "outputs": [],
   "source": [
    "from transformers import BertTokenizer, BertModel\n",
    "import torch\n",
    "import numpy as np\n",
    "\n",
    "# Initialize MinIO client and BERT model\n",
    "tokenizer = BertTokenizer.from_pretrained('bert-base-uncased')\n",
    "model = BertModel.from_pretrained('bert-base-uncased')\n",
    "\n",
    "def generate_vectors(text):\n",
    "    # Check if GPU is available and use it; otherwise, use CPU\n",
    "    device = torch.device(\"cuda\" if torch.cuda.is_available() else \"cpu\")\n",
    "    \n",
    "    # Send model to device (GPU or CPU)\n",
    "    model.to(device)\n",
    "    model.eval()  # Ensure the model is in evaluation mode\n",
    "\n",
    "    # Ensure no gradient calculations\n",
    "    with torch.no_grad():\n",
    "        # Prepare inputs and send them to the device\n",
    "        inputs = tokenizer(text, return_tensors=\"pt\", padding=True, truncation=True, max_length=512).to(device)\n",
    "        \n",
    "        # Forward pass, send model outputs back to CPU\n",
    "        outputs = model(**inputs).last_hidden_state.mean(dim=1).squeeze().to('cpu').numpy()\n",
    "\n",
    "    # Convert the output to float32 for compatibility and ensure it's flat\n",
    "    return outputs.astype(np.float32)\n",
    "\n",
    "# Example usage with a DataFrame\n",
    "# df_sentence['Summary_vector'] = df_sentence['Summary'].progress_apply(lambda x: generate_vectors(x) if isinstance(x, str) else np.nan)\n"
   ]
  },
  {
   "cell_type": "code",
   "execution_count": 5,
   "id": "493e0aac-67e4-4fd5-8c20-af893ff2c279",
   "metadata": {},
   "outputs": [],
   "source": [
    "import faiss\n"
   ]
  },
  {
   "cell_type": "code",
   "execution_count": 6,
   "id": "11b57b5f-39dd-4c92-80fb-8b54f814197c",
   "metadata": {},
   "outputs": [],
   "source": [
    "pd.set_option('display.max_colwidth', None)  # For pandas versions that support None as an option\n",
    "# or\n",
    "pd.set_option('display.max_colwidth', 1000)  # Set a large value explicitly\n"
   ]
  },
  {
   "cell_type": "code",
   "execution_count": 7,
   "id": "7513c338-0d47-4722-a928-108edc1ce86b",
   "metadata": {},
   "outputs": [
    {
     "name": "stdout",
     "output_type": "stream",
     "text": [
      "D:\\downloads\\amazon_customer_reviews\n"
     ]
    }
   ],
   "source": [
    "#download_dir = 'D:\\\\downloads'\n",
    "download_dir = 'D:\\\\downloads\\\\amazon_customer_reviews'\n",
    "print(download_dir)"
   ]
  },
  {
   "cell_type": "code",
   "execution_count": 8,
   "id": "78d20057-23f4-454d-a157-eb87eaf16e23",
   "metadata": {},
   "outputs": [
    {
     "name": "stdout",
     "output_type": "stream",
     "text": [
      "D:\\downloads\\amazon_customer_reviews\\amazon_reviews_pickle_paragraphs_similarity_20240219.pkl\n"
     ]
    }
   ],
   "source": [
    "#df_pickle_filename = os.path.join(download_dir,\"amazon_reviews_pickle_paragraphs_20240219.pkl\")\n",
    "df_pickle_filename = os.path.join(download_dir,\"amazon_reviews_pickle_paragraphs_similarity_20240219.pkl\")\n",
    "\n",
    "print(df_pickle_filename)"
   ]
  },
  {
   "cell_type": "code",
   "execution_count": 9,
   "id": "189dcc24-3c95-421d-8edd-d05ff8762fd3",
   "metadata": {},
   "outputs": [],
   "source": [
    "index_paragraph_filename = os.path.join(download_dir,\"amazon_reviews_pickle_sentences_similarity_20240219_index_paragraph.faiss\")\n",
    "index_paragraph = faiss.read_index(index_paragraph_filename)\n"
   ]
  },
  {
   "cell_type": "code",
   "execution_count": 10,
   "id": "91a31572-bfbd-4bab-bbdb-af1a2cea3117",
   "metadata": {},
   "outputs": [],
   "source": [
    "index_summary_filename = os.path.join(download_dir,\"amazon_reviews_pickle_sentences_similarity_20240219_index_summary.faiss\")\n",
    "index_summary = faiss.read_index(index_summary_filename)\n"
   ]
  },
  {
   "cell_type": "code",
   "execution_count": 11,
   "id": "dc59397c-6a75-4eb2-b4a6-ac67716662e2",
   "metadata": {},
   "outputs": [],
   "source": [
    "#df_pickle_filename = os.path.join(download_dir,\"amazon_reviews_pickle_paragraphs_similarity_20240219.pkl\")\n",
    "\n",
    "df_pickle_reduced_filename = os.path.join(download_dir,\"amazon_reviews_pickle_paragraphs_similarity_reduced_20240219.pkl\")\n",
    "\n",
    "df_paragraph = pd.read_pickle(df_pickle_reduced_filename )"
   ]
  },
  {
   "cell_type": "code",
   "execution_count": 12,
   "id": "5759c0d2-823c-4500-8cf6-fb2fbb0ddc54",
   "metadata": {},
   "outputs": [
    {
     "data": {
      "text/plain": [
       "Index(['Id', 'ProductId', 'UserId', 'ProfileName', 'HelpfulnessNumerator',\n",
       "       'HelpfulnessDenominator', 'Score', 'Time', 'Summary', 'Paragraph',\n",
       "       'Paragraph_Cluster', 'Paragraph_Distance', 'Summary_Cluster',\n",
       "       'Summary_Distance', 'Summary_similarity_distance',\n",
       "       'Summary_similarity_index', 'Paragraph_similarity_distance',\n",
       "       'Paragraph_similarity_index'],\n",
       "      dtype='object')"
      ]
     },
     "execution_count": 12,
     "metadata": {},
     "output_type": "execute_result"
    }
   ],
   "source": [
    "df_paragraph.columns"
   ]
  },
  {
   "cell_type": "code",
   "execution_count": 23,
   "id": "901e3236-3601-4aab-96f3-638e120d3229",
   "metadata": {},
   "outputs": [],
   "source": [
    "paragraph_similarity_distance = df_paragraph.iloc[0].Paragraph_similarity_distance"
   ]
  },
  {
   "cell_type": "code",
   "execution_count": 24,
   "id": "f2cb3768-6bef-498b-9027-040ce300a6ea",
   "metadata": {},
   "outputs": [
    {
     "data": {
      "text/plain": [
       "array([ 0.       ,  9.213089 ,  9.347366 ,  9.460304 ,  9.700714 ,\n",
       "        9.70076  ,  9.70076  ,  9.70076  ,  9.70076  ,  9.70076  ,\n",
       "        9.70076  ,  9.70076  ,  9.70076  ,  9.70076  ,  9.701889 ,\n",
       "       10.113693 , 10.255371 , 10.263527 , 10.2729645, 10.301964 ,\n",
       "       10.332123 , 10.355682 , 10.420395 , 10.544197 , 10.554474 ,\n",
       "       10.554474 , 10.554474 , 10.575752 , 10.576309 , 10.576309 ,\n",
       "       10.576309 , 10.576309 , 10.576324 , 10.579697 , 10.589935 ,\n",
       "       10.589935 , 10.589943 , 10.589943 , 10.589943 , 10.589943 ,\n",
       "       10.589943 , 10.589943 , 10.589943 , 10.589943 , 10.589943 ,\n",
       "       10.630844 , 10.635422 , 10.635422 , 10.635422 , 10.635422 ,\n",
       "       10.635422 , 10.635422 , 10.635422 , 10.635422 , 10.635437 ,\n",
       "       10.6716   , 10.676559 , 10.694992 , 10.694992 , 10.699684 ,\n",
       "       10.753281 , 10.765335 , 10.767212 , 10.7866745, 10.787247 ,\n",
       "       10.789093 , 10.81221  , 10.820984 , 10.820984 , 10.858795 ,\n",
       "       10.868179 , 10.89344  , 10.904137 , 10.927902 , 10.933929 ,\n",
       "       10.941132 , 10.958763 , 10.962982 , 10.975288 , 10.994675 ,\n",
       "       11.003754 , 11.003754 , 11.003754 , 11.003754 , 11.021919 ,\n",
       "       11.021919 , 11.021919 , 11.021919 , 11.0252   , 11.065582 ,\n",
       "       11.066528 , 11.067139 , 11.067139 , 11.067169 , 11.067169 ,\n",
       "       11.067169 , 11.067169 , 11.067169 , 11.067169 , 11.067169 ],\n",
       "      dtype=float32)"
      ]
     },
     "execution_count": 24,
     "metadata": {},
     "output_type": "execute_result"
    }
   ],
   "source": [
    "paragraph_similarity_distance"
   ]
  },
  {
   "cell_type": "code",
   "execution_count": 115,
   "id": "a04f7609-66e8-4bb5-972c-221c2a29f11e",
   "metadata": {},
   "outputs": [],
   "source": [
    "paragraph_similarity_index = df_paragraph.iloc[1].Paragraph_similarity_index"
   ]
  },
  {
   "cell_type": "code",
   "execution_count": 116,
   "id": "89ecdd3e-8074-4068-b181-f8962604a2a2",
   "metadata": {},
   "outputs": [
    {
     "data": {
      "text/plain": [
       "array([     1, 408473, 459824, 230876, 502381, 245616, 527311, 438658,\n",
       "       349804, 194089, 159471, 142505, 499358, 298688, 491070,  41768,\n",
       "       267807, 334483,  68894, 417287, 309025, 187245, 315377, 275071,\n",
       "       498950, 484232, 438995,  29075, 505004,  31922, 435531,  31813,\n",
       "       435422,  12366, 294553, 147117,  81647,  59750,  58152, 135081,\n",
       "       381083, 381082, 564975, 342293, 387457, 135092, 236790, 231867,\n",
       "       389426, 290343, 540431, 469678, 388590, 238012,  85890, 241155,\n",
       "       126047, 160163, 438134, 142328, 310480, 196808, 368942, 369417,\n",
       "        79443, 420516, 398799, 496167, 265497, 238369, 297794, 198701,\n",
       "        17860, 438705, 432557, 567515, 522180, 118525,  29674,  29122,\n",
       "       239297, 214398, 382645, 477098, 257118, 308293, 508396, 389794,\n",
       "       309039, 444614, 358197, 241758, 435155, 410436, 239152, 502018,\n",
       "       381149, 369686, 348656,   7394], dtype=int64)"
      ]
     },
     "execution_count": 116,
     "metadata": {},
     "output_type": "execute_result"
    }
   ],
   "source": [
    "paragraph_similarity_index"
   ]
  },
  {
   "cell_type": "code",
   "execution_count": 117,
   "id": "4df5f69d-a150-40b8-8a50-d9aac7788a04",
   "metadata": {},
   "outputs": [],
   "source": [
    "df_selected_paragraphs = df_paragraph.loc[paragraph_similarity_index, ['Paragraph']]"
   ]
  },
  {
   "cell_type": "code",
   "execution_count": 118,
   "id": "205afd9b-5564-4a8f-ae43-27f3de1404d2",
   "metadata": {},
   "outputs": [],
   "source": [
    "df_selected_paragraphs['Product Type'] = \"\""
   ]
  },
  {
   "cell_type": "code",
   "execution_count": 119,
   "id": "f2cf62be-fca1-4535-ab21-64bf548affb8",
   "metadata": {},
   "outputs": [],
   "source": [
    "df_selected_paragraphs['Original Index'] = df_selected_paragraphs.index"
   ]
  },
  {
   "cell_type": "code",
   "execution_count": 120,
   "id": "e2ee8ee5-3ba0-4fff-b781-1d11b1b0c70b",
   "metadata": {},
   "outputs": [
    {
     "data": {
      "text/html": [
       "<div>\n",
       "<style scoped>\n",
       "    .dataframe tbody tr th:only-of-type {\n",
       "        vertical-align: middle;\n",
       "    }\n",
       "\n",
       "    .dataframe tbody tr th {\n",
       "        vertical-align: top;\n",
       "    }\n",
       "\n",
       "    .dataframe thead th {\n",
       "        text-align: right;\n",
       "    }\n",
       "</style>\n",
       "<table border=\"1\" class=\"dataframe\">\n",
       "  <thead>\n",
       "    <tr style=\"text-align: right;\">\n",
       "      <th></th>\n",
       "      <th>Paragraph</th>\n",
       "      <th>Product Type</th>\n",
       "      <th>Original Index</th>\n",
       "    </tr>\n",
       "  </thead>\n",
       "  <tbody>\n",
       "    <tr>\n",
       "      <th>1</th>\n",
       "      <td>Product arrived labeled as Jumbo Salted Peanuts...the peanuts were actually small sized unsalted. Not sure if this was an error or if the vendor intended to represent the product as \"Jumbo\".</td>\n",
       "      <td></td>\n",
       "      <td>1</td>\n",
       "    </tr>\n",
       "    <tr>\n",
       "      <th>408473</th>\n",
       "      <td>I highly recommend this to all vegtable lovers. It's just fantastic.. Try it and you will see what I mean...</td>\n",
       "      <td></td>\n",
       "      <td>408473</td>\n",
       "    </tr>\n",
       "    <tr>\n",
       "      <th>459824</th>\n",
       "      <td>This is the best marshmallow creme&lt;br /&gt;I have ever eaten. It is great in fudge&lt;br /&gt;recipes. It is also great as a quick snack,&lt;br /&gt;just grab a spoonful. It takes the craving&lt;br /&gt;right away.&lt;br /&gt;&lt;br /&gt;I have also used it to make rice krispie&lt;br /&gt;marshmallow treats since I did not have&lt;br /&gt;marshmallows. It was pretty good, but not&lt;br /&gt;as good as with marshmallows.&lt;br /&gt;&lt;br /&gt;However, I must add that since I am having&lt;br /&gt;blood sugar problems, I restrict this to once&lt;br /&gt;a year for Christmas fudge recipes. The fudge&lt;br /&gt;just can't survive without it!</td>\n",
       "      <td></td>\n",
       "      <td>459824</td>\n",
       "    </tr>\n",
       "    <tr>\n",
       "      <th>230876</th>\n",
       "      <td>My Father's Day Tower of Sweets arrived immediately, but the product was a little short and was a concern.  I left feedback letting the seller know of my concerns.  They immediately contacted me with an apology and a promise to investigate.  Today I received another email and they will be sending a replacement package.  I know it will be a big surprise to Dad and I know he will be happy when he gets to try the treats! Thank you Broadway Basketeers for outstanding customer service and concern about the satisfaction of your customers.  You are greatly appreciated.</td>\n",
       "      <td></td>\n",
       "      <td>230876</td>\n",
       "    </tr>\n",
       "    <tr>\n",
       "      <th>502381</th>\n",
       "      <td>Thrown into a bag, some were broken, selection was terrible.  Not even 50% were coffee!  Would never purchase again or recommend.  Shame on you!</td>\n",
       "      <td></td>\n",
       "      <td>502381</td>\n",
       "    </tr>\n",
       "    <tr>\n",
       "      <th>...</th>\n",
       "      <td>...</td>\n",
       "      <td>...</td>\n",
       "      <td>...</td>\n",
       "    </tr>\n",
       "    <tr>\n",
       "      <th>502018</th>\n",
       "      <td>My cats go crazy over this food!  I was worried they would not like it, because it is shredded, but it did not bother them one bit.  The ingredient list is great, as well.  Also, it is one of the few canned cat foods that does not contain carrageenan, which I recently found out causes GI problems in cats (and possibly cancer).</td>\n",
       "      <td></td>\n",
       "      <td>502018</td>\n",
       "    </tr>\n",
       "    <tr>\n",
       "      <th>381149</th>\n",
       "      <td>My dad drank chocolate malted milk for years and got me hooked on it. I have since developed a preference for the original (i.e., non-chocolate) product. I can't find it in stores anymore, so the alternative for me is through Amazon or other online store. The quality is consistent, batch after batch. If malted milk is your thing, Carnation is the best.</td>\n",
       "      <td></td>\n",
       "      <td>381149</td>\n",
       "    </tr>\n",
       "    <tr>\n",
       "      <th>369686</th>\n",
       "      <td>Best cookies ever! Honestly my fav!! And they are WAYYY healthier than almost any other cookie. I love these and the price is great on here especially with subscribe and save!</td>\n",
       "      <td></td>\n",
       "      <td>369686</td>\n",
       "    </tr>\n",
       "    <tr>\n",
       "      <th>348656</th>\n",
       "      <td>Product arrived quickly and in good condition.&lt;br /&gt;I used this for confectionery work and it worked nicely.&lt;br /&gt;This sugar is finer than the 10X confecctioner's sugar you get at the grocery store.</td>\n",
       "      <td></td>\n",
       "      <td>348656</td>\n",
       "    </tr>\n",
       "    <tr>\n",
       "      <th>7394</th>\n",
       "      <td>I made the mistake of thinking that this product was simply Brown sugar flavored Splenda. I didn't read the product details stating that it actually has brown sugar in it.. My mistake...</td>\n",
       "      <td></td>\n",
       "      <td>7394</td>\n",
       "    </tr>\n",
       "  </tbody>\n",
       "</table>\n",
       "<p>100 rows × 3 columns</p>\n",
       "</div>"
      ],
      "text/plain": [
       "                                                                                                                                                                                                                                                                                                                                                                                                                                                                                                                                                                                       Paragraph  \\\n",
       "1                                                                                                                                                                                                                                                                                                                                                                                                 Product arrived labeled as Jumbo Salted Peanuts...the peanuts were actually small sized unsalted. Not sure if this was an error or if the vendor intended to represent the product as \"Jumbo\".   \n",
       "408473                                                                                                                                                                                                                                                                                                                                                                                                                                                                              I highly recommend this to all vegtable lovers. It's just fantastic.. Try it and you will see what I mean...   \n",
       "459824      This is the best marshmallow creme<br />I have ever eaten. It is great in fudge<br />recipes. It is also great as a quick snack,<br />just grab a spoonful. It takes the craving<br />right away.<br /><br />I have also used it to make rice krispie<br />marshmallow treats since I did not have<br />marshmallows. It was pretty good, but not<br />as good as with marshmallows.<br /><br />However, I must add that since I am having<br />blood sugar problems, I restrict this to once<br />a year for Christmas fudge recipes. The fudge<br />just can't survive without it!   \n",
       "230876  My Father's Day Tower of Sweets arrived immediately, but the product was a little short and was a concern.  I left feedback letting the seller know of my concerns.  They immediately contacted me with an apology and a promise to investigate.  Today I received another email and they will be sending a replacement package.  I know it will be a big surprise to Dad and I know he will be happy when he gets to try the treats! Thank you Broadway Basketeers for outstanding customer service and concern about the satisfaction of your customers.  You are greatly appreciated.   \n",
       "502381                                                                                                                                                                                                                                                                                                                                                                                                                                          Thrown into a bag, some were broken, selection was terrible.  Not even 50% were coffee!  Would never purchase again or recommend.  Shame on you!   \n",
       "...                                                                                                                                                                                                                                                                                                                                                                                                                                                                                                                                                                                          ...   \n",
       "502018                                                                                                                                                                                                                                                  My cats go crazy over this food!  I was worried they would not like it, because it is shredded, but it did not bother them one bit.  The ingredient list is great, as well.  Also, it is one of the few canned cat foods that does not contain carrageenan, which I recently found out causes GI problems in cats (and possibly cancer).   \n",
       "381149                                                                                                                                                                                                                        My dad drank chocolate malted milk for years and got me hooked on it. I have since developed a preference for the original (i.e., non-chocolate) product. I can't find it in stores anymore, so the alternative for me is through Amazon or other online store. The quality is consistent, batch after batch. If malted milk is your thing, Carnation is the best.   \n",
       "369686                                                                                                                                                                                                                                                                                                                                                                                                           Best cookies ever! Honestly my fav!! And they are WAYYY healthier than almost any other cookie. I love these and the price is great on here especially with subscribe and save!   \n",
       "348656                                                                                                                                                                                                                                                                                                                                                                                    Product arrived quickly and in good condition.<br />I used this for confectionery work and it worked nicely.<br />This sugar is finer than the 10X confecctioner's sugar you get at the grocery store.   \n",
       "7394                                                                                                                                                                                                                                                                                                                                                                                                  I made the mistake of thinking that this product was simply Brown sugar flavored Splenda. I didn't read the product details stating that it actually has brown sugar in it.. My mistake...   \n",
       "\n",
       "       Product Type  Original Index  \n",
       "1                                 1  \n",
       "408473                       408473  \n",
       "459824                       459824  \n",
       "230876                       230876  \n",
       "502381                       502381  \n",
       "...             ...             ...  \n",
       "502018                       502018  \n",
       "381149                       381149  \n",
       "369686                       369686  \n",
       "348656                       348656  \n",
       "7394                           7394  \n",
       "\n",
       "[100 rows x 3 columns]"
      ]
     },
     "execution_count": 120,
     "metadata": {},
     "output_type": "execute_result"
    }
   ],
   "source": [
    "df_selected_paragraphs"
   ]
  },
  {
   "cell_type": "raw",
   "id": "717e526e-b8d4-4b9e-80f7-af38731c58cc",
   "metadata": {},
   "source": []
  },
  {
   "cell_type": "code",
   "execution_count": 122,
   "id": "1d799a7d-b11d-4882-a4de-e4fc89401e36",
   "metadata": {},
   "outputs": [],
   "source": [
    "selected_paragraphs_excel_filename = os.path.join(download_dir,\"selected_paragraphs_for_annotation.xlsx\")\n",
    "df_selected_paragraphs.to_excel(selected_paragraphs_excel_filename, index=False)"
   ]
  },
  {
   "cell_type": "code",
   "execution_count": 123,
   "id": "282c100a-8b05-4d2b-af1d-9aa5b2e87e96",
   "metadata": {},
   "outputs": [
    {
     "data": {
      "text/plain": [
       "'D:\\\\downloads\\\\amazon_customer_reviews\\\\selected_paragraphs_for_annotation.xlsx'"
      ]
     },
     "execution_count": 123,
     "metadata": {},
     "output_type": "execute_result"
    }
   ],
   "source": [
    "selected_paragraphs_excel_filename"
   ]
  },
  {
   "cell_type": "code",
   "execution_count": null,
   "id": "7afbf45f-5135-4650-8ce1-56cc0561b942",
   "metadata": {},
   "outputs": [],
   "source": [
    "#df_selected_paragraphs_reset = df_selected_paragraphs.reset_index().rename(columns={'index': 'Original Index'})"
   ]
  },
  {
   "cell_type": "code",
   "execution_count": null,
   "id": "a6c6e248-caa6-4c60-a4d0-2922607bcc5a",
   "metadata": {},
   "outputs": [],
   "source": [
    "#stop"
   ]
  },
  {
   "cell_type": "code",
   "execution_count": 124,
   "id": "b5f95bb8-6aac-4668-a182-e4215ae1169f",
   "metadata": {},
   "outputs": [
    {
     "data": {
      "text/plain": [
       "'D:\\\\downloads\\\\amazon_customer_reviews\\\\selected_paragraphs_for_annotation.xlsx'"
      ]
     },
     "execution_count": 124,
     "metadata": {},
     "output_type": "execute_result"
    }
   ],
   "source": [
    "from openpyxl import Workbook\n",
    "from openpyxl.utils.dataframe import dataframe_to_rows\n",
    "from openpyxl.styles import Alignment\n",
    "\n",
    "# Create an Excel writer using openpyxl\n",
    "#excel_path = \"/mnt/data/df_selected_paragraphs_formatted.xlsx\"\n",
    "excel_path =  selected_paragraphs_excel_filename\n",
    "writer = pd.ExcelWriter(excel_path, engine='openpyxl')\n",
    "\n",
    "# Convert the DataFrame to an openpyxl Workbook object\n",
    "df_selected_paragraphs.to_excel(writer, index=False, sheet_name='Sheet1')\n",
    "\n",
    "# Get the openpyxl workbook and worksheet objects\n",
    "workbook = writer.book\n",
    "worksheet = writer.sheets['Sheet1']\n",
    "\n",
    "# Set the column width for the Paragraph column (B)\n",
    "worksheet.column_dimensions['A'].width = 50\n",
    "worksheet.column_dimensions['B'].width = 50\n",
    "\n",
    "for cell in worksheet['A'][1:]:  # Skip the header row\n",
    "    cell.alignment = Alignment(wrapText=True)\n",
    "\n",
    "\n",
    "workbook.save(selected_paragraphs_excel_filename)\n",
    "# Save the workbook\n",
    "writer.close()\n",
    "\n",
    "excel_path\n"
   ]
  },
  {
   "cell_type": "code",
   "execution_count": 125,
   "id": "58fc160c-5c1d-46d6-875b-7e727778df63",
   "metadata": {},
   "outputs": [],
   "source": [
    "df_with_product_types = pd.read_excel(selected_paragraphs_excel_filename)\n"
   ]
  },
  {
   "cell_type": "code",
   "execution_count": 126,
   "id": "71330f0f-8369-4e00-b1a0-686189fcb2c3",
   "metadata": {},
   "outputs": [],
   "source": [
    "df_with_product_types['Original Index'] = df_selected_paragraphs.index"
   ]
  },
  {
   "cell_type": "code",
   "execution_count": 127,
   "id": "f14caf9c-cf60-42bc-85f0-c1564110fdb3",
   "metadata": {
    "scrolled": true
   },
   "outputs": [],
   "source": [
    "df_with_product_types['Product Type'] = df_with_product_types['Product Type'].str.lower()"
   ]
  },
  {
   "cell_type": "code",
   "execution_count": 128,
   "id": "c5ed133f-4d32-47b9-8b81-191bd125bbe7",
   "metadata": {},
   "outputs": [
    {
     "data": {
      "text/html": [
       "<div>\n",
       "<style scoped>\n",
       "    .dataframe tbody tr th:only-of-type {\n",
       "        vertical-align: middle;\n",
       "    }\n",
       "\n",
       "    .dataframe tbody tr th {\n",
       "        vertical-align: top;\n",
       "    }\n",
       "\n",
       "    .dataframe thead th {\n",
       "        text-align: right;\n",
       "    }\n",
       "</style>\n",
       "<table border=\"1\" class=\"dataframe\">\n",
       "  <thead>\n",
       "    <tr style=\"text-align: right;\">\n",
       "      <th></th>\n",
       "      <th>Paragraph</th>\n",
       "      <th>Product Type</th>\n",
       "      <th>Original Index</th>\n",
       "    </tr>\n",
       "  </thead>\n",
       "  <tbody>\n",
       "    <tr>\n",
       "      <th>0</th>\n",
       "      <td>Product arrived labeled as Jumbo Salted Peanuts...the peanuts were actually small sized unsalted. Not sure if this was an error or if the vendor intended to represent the product as \"Jumbo\".</td>\n",
       "      <td>snack food</td>\n",
       "      <td>1</td>\n",
       "    </tr>\n",
       "    <tr>\n",
       "      <th>1</th>\n",
       "      <td>I highly recommend this to all vegtable lovers. It's just fantastic.. Try it and you will see what I mean...</td>\n",
       "      <td>snack food</td>\n",
       "      <td>408473</td>\n",
       "    </tr>\n",
       "    <tr>\n",
       "      <th>2</th>\n",
       "      <td>This is the best marshmallow creme&lt;br /&gt;I have ever eaten. It is great in fudge&lt;br /&gt;recipes. It is also great as a quick snack,&lt;br /&gt;just grab a spoonful. It takes the craving&lt;br /&gt;right away.&lt;br /&gt;&lt;br /&gt;I have also used it to make rice krispie&lt;br /&gt;marshmallow treats since I did not have&lt;br /&gt;marshmallows. It was pretty good, but not&lt;br /&gt;as good as with marshmallows.&lt;br /&gt;&lt;br /&gt;However, I must add that since I am having&lt;br /&gt;blood sugar problems, I restrict this to once&lt;br /&gt;a year for Christmas fudge recipes. The fudge&lt;br /&gt;just can't survive without it!</td>\n",
       "      <td>snack food</td>\n",
       "      <td>459824</td>\n",
       "    </tr>\n",
       "    <tr>\n",
       "      <th>3</th>\n",
       "      <td>My Father's Day Tower of Sweets arrived immediately, but the product was a little short and was a concern.  I left feedback letting the seller know of my concerns.  They immediately contacted me with an apology and a promise to investigate.  Today I received another email and they will be sending a replacement package.  I know it will be a big surprise to Dad and I know he will be happy when he gets to try the treats! Thank you Broadway Basketeers for outstanding customer service and concern about the satisfaction of your customers.  You are greatly appreciated.</td>\n",
       "      <td>snack food</td>\n",
       "      <td>230876</td>\n",
       "    </tr>\n",
       "    <tr>\n",
       "      <th>4</th>\n",
       "      <td>Thrown into a bag, some were broken, selection was terrible.  Not even 50% were coffee!  Would never purchase again or recommend.  Shame on you!</td>\n",
       "      <td>coffee</td>\n",
       "      <td>502381</td>\n",
       "    </tr>\n",
       "    <tr>\n",
       "      <th>...</th>\n",
       "      <td>...</td>\n",
       "      <td>...</td>\n",
       "      <td>...</td>\n",
       "    </tr>\n",
       "    <tr>\n",
       "      <th>95</th>\n",
       "      <td>My cats go crazy over this food!  I was worried they would not like it, because it is shredded, but it did not bother them one bit.  The ingredient list is great, as well.  Also, it is one of the few canned cat foods that does not contain carrageenan, which I recently found out causes GI problems in cats (and possibly cancer).</td>\n",
       "      <td>pet food</td>\n",
       "      <td>502018</td>\n",
       "    </tr>\n",
       "    <tr>\n",
       "      <th>96</th>\n",
       "      <td>My dad drank chocolate malted milk for years and got me hooked on it. I have since developed a preference for the original (i.e., non-chocolate) product. I can't find it in stores anymore, so the alternative for me is through Amazon or other online store. The quality is consistent, batch after batch. If malted milk is your thing, Carnation is the best.</td>\n",
       "      <td>drink</td>\n",
       "      <td>381149</td>\n",
       "    </tr>\n",
       "    <tr>\n",
       "      <th>97</th>\n",
       "      <td>Best cookies ever! Honestly my fav!! And they are WAYYY healthier than almost any other cookie. I love these and the price is great on here especially with subscribe and save!</td>\n",
       "      <td>snack food</td>\n",
       "      <td>369686</td>\n",
       "    </tr>\n",
       "    <tr>\n",
       "      <th>98</th>\n",
       "      <td>Product arrived quickly and in good condition.&lt;br /&gt;I used this for confectionery work and it worked nicely.&lt;br /&gt;This sugar is finer than the 10X confecctioner's sugar you get at the grocery store.</td>\n",
       "      <td>baking</td>\n",
       "      <td>348656</td>\n",
       "    </tr>\n",
       "    <tr>\n",
       "      <th>99</th>\n",
       "      <td>I made the mistake of thinking that this product was simply Brown sugar flavored Splenda. I didn't read the product details stating that it actually has brown sugar in it.. My mistake...</td>\n",
       "      <td>baking</td>\n",
       "      <td>7394</td>\n",
       "    </tr>\n",
       "  </tbody>\n",
       "</table>\n",
       "<p>100 rows × 3 columns</p>\n",
       "</div>"
      ],
      "text/plain": [
       "                                                                                                                                                                                                                                                                                                                                                                                                                                                                                                                                                                                   Paragraph  \\\n",
       "0                                                                                                                                                                                                                                                                                                                                                                                             Product arrived labeled as Jumbo Salted Peanuts...the peanuts were actually small sized unsalted. Not sure if this was an error or if the vendor intended to represent the product as \"Jumbo\".   \n",
       "1                                                                                                                                                                                                                                                                                                                                                                                                                                                                               I highly recommend this to all vegtable lovers. It's just fantastic.. Try it and you will see what I mean...   \n",
       "2       This is the best marshmallow creme<br />I have ever eaten. It is great in fudge<br />recipes. It is also great as a quick snack,<br />just grab a spoonful. It takes the craving<br />right away.<br /><br />I have also used it to make rice krispie<br />marshmallow treats since I did not have<br />marshmallows. It was pretty good, but not<br />as good as with marshmallows.<br /><br />However, I must add that since I am having<br />blood sugar problems, I restrict this to once<br />a year for Christmas fudge recipes. The fudge<br />just can't survive without it!   \n",
       "3   My Father's Day Tower of Sweets arrived immediately, but the product was a little short and was a concern.  I left feedback letting the seller know of my concerns.  They immediately contacted me with an apology and a promise to investigate.  Today I received another email and they will be sending a replacement package.  I know it will be a big surprise to Dad and I know he will be happy when he gets to try the treats! Thank you Broadway Basketeers for outstanding customer service and concern about the satisfaction of your customers.  You are greatly appreciated.   \n",
       "4                                                                                                                                                                                                                                                                                                                                                                                                                                           Thrown into a bag, some were broken, selection was terrible.  Not even 50% were coffee!  Would never purchase again or recommend.  Shame on you!   \n",
       "..                                                                                                                                                                                                                                                                                                                                                                                                                                                                                                                                                                                       ...   \n",
       "95                                                                                                                                                                                                                                                  My cats go crazy over this food!  I was worried they would not like it, because it is shredded, but it did not bother them one bit.  The ingredient list is great, as well.  Also, it is one of the few canned cat foods that does not contain carrageenan, which I recently found out causes GI problems in cats (and possibly cancer).   \n",
       "96                                                                                                                                                                                                                        My dad drank chocolate malted milk for years and got me hooked on it. I have since developed a preference for the original (i.e., non-chocolate) product. I can't find it in stores anymore, so the alternative for me is through Amazon or other online store. The quality is consistent, batch after batch. If malted milk is your thing, Carnation is the best.   \n",
       "97                                                                                                                                                                                                                                                                                                                                                                                                           Best cookies ever! Honestly my fav!! And they are WAYYY healthier than almost any other cookie. I love these and the price is great on here especially with subscribe and save!   \n",
       "98                                                                                                                                                                                                                                                                                                                                                                                    Product arrived quickly and in good condition.<br />I used this for confectionery work and it worked nicely.<br />This sugar is finer than the 10X confecctioner's sugar you get at the grocery store.   \n",
       "99                                                                                                                                                                                                                                                                                                                                                                                                I made the mistake of thinking that this product was simply Brown sugar flavored Splenda. I didn't read the product details stating that it actually has brown sugar in it.. My mistake...   \n",
       "\n",
       "   Product Type  Original Index  \n",
       "0    snack food               1  \n",
       "1    snack food          408473  \n",
       "2    snack food          459824  \n",
       "3    snack food          230876  \n",
       "4        coffee          502381  \n",
       "..          ...             ...  \n",
       "95     pet food          502018  \n",
       "96        drink          381149  \n",
       "97   snack food          369686  \n",
       "98       baking          348656  \n",
       "99       baking            7394  \n",
       "\n",
       "[100 rows x 3 columns]"
      ]
     },
     "execution_count": 128,
     "metadata": {},
     "output_type": "execute_result"
    }
   ],
   "source": [
    "df_with_product_types"
   ]
  },
  {
   "cell_type": "code",
   "execution_count": 129,
   "id": "d5494641-bfe8-43c5-a385-39bf98b71a94",
   "metadata": {},
   "outputs": [
    {
     "data": {
      "text/plain": [
       "Index(['Id', 'ProductId', 'UserId', 'ProfileName', 'HelpfulnessNumerator',\n",
       "       'HelpfulnessDenominator', 'Score', 'Time', 'Summary', 'Paragraph',\n",
       "       'Paragraph_Cluster', 'Paragraph_Distance', 'Summary_Cluster',\n",
       "       'Summary_Distance', 'Summary_similarity_distance',\n",
       "       'Summary_similarity_index', 'Paragraph_similarity_distance',\n",
       "       'Paragraph_similarity_index', 'Product Types'],\n",
       "      dtype='object')"
      ]
     },
     "execution_count": 129,
     "metadata": {},
     "output_type": "execute_result"
    }
   ],
   "source": [
    "df_paragraph.columns"
   ]
  },
  {
   "cell_type": "code",
   "execution_count": 94,
   "id": "0640899e-da80-401d-8d9b-061d44e85ff8",
   "metadata": {},
   "outputs": [],
   "source": [
    "#df_paragraph = df_paragraph.drop('Product Types',axis=1)"
   ]
  },
  {
   "cell_type": "code",
   "execution_count": 96,
   "id": "79d47f8e-bc2f-478e-afea-c2664ae5f992",
   "metadata": {},
   "outputs": [],
   "source": [
    "#if 'Product Types' not in df_paragraph.columns:\n",
    "#    df_paragraph['Product Types'] = [[] for _ in range(len(df_paragraph))]"
   ]
  },
  {
   "cell_type": "code",
   "execution_count": 130,
   "id": "102c8b28-6933-4d91-a27c-2917bb02094f",
   "metadata": {},
   "outputs": [],
   "source": [
    "# Function to update product types in df_paragraph\n",
    "def update_product_types(original_df, updates_df):\n",
    "    for _, row in updates_df.iterrows():\n",
    "        original_index = row['Original Index']\n",
    "        product_type = row['Product Type']\n",
    "        \n",
    "        # Append the new product type to the existing list, ensuring no duplicates\n",
    "        if product_type not in original_df.at[original_index, 'Product Types']:\n",
    "            original_df.at[original_index, 'Product Types'].append(product_type)\n"
   ]
  },
  {
   "cell_type": "code",
   "execution_count": 131,
   "id": "1b03398c-b788-4be3-bbca-2fa8a9a7fc47",
   "metadata": {},
   "outputs": [
    {
     "data": {
      "text/plain": [
       "Index(['Paragraph', 'Product Type', 'Original Index'], dtype='object')"
      ]
     },
     "execution_count": 131,
     "metadata": {},
     "output_type": "execute_result"
    }
   ],
   "source": [
    "df_with_product_types.columns"
   ]
  },
  {
   "cell_type": "code",
   "execution_count": 132,
   "id": "6ea02d62-1d81-4fed-9bb2-6abc31f73fad",
   "metadata": {},
   "outputs": [],
   "source": [
    "# Call the function to update df_paragraph with the new product types\n",
    "update_product_types(df_paragraph, df_with_product_types)"
   ]
  },
  {
   "cell_type": "code",
   "execution_count": 135,
   "id": "cceb730a-34d4-4864-9800-1eb465dd8bc9",
   "metadata": {},
   "outputs": [
    {
     "data": {
      "text/plain": [
       "Id                                                                                                                                                                                                                                                                                                                                                                                                                                                                                                                                                                                                                                                                                                                                                                                                                                                                                                                                                                                                                                                                     2\n",
       "ProductId                                                                                                                                                                                                                                                                                                                                                                                                                                                                                                                                                                                                                                                                                                                                                                                                                                                                                                                                                                                                                                                     B00813GRG4\n",
       "UserId                                                                                                                                                                                                                                                                                                                                                                                                                                                                                                                                                                                                                                                                                                                                                                                                                                                                                                                                                                                                                                                    A1D87F6ZCVE5NK\n",
       "ProfileName                                                                                                                                                                                                                                                                                                                                                                                                                                                                                                                                                                                                                                                                                                                                                                                                                                                                                                                                                                                                                                                       dll pa\n",
       "HelpfulnessNumerator                                                                                                                                                                                                                                                                                                                                                                                                                                                                                                                                                                                                                                                                                                                                                                                                                                                                                                                                                                                                                                                   0\n",
       "HelpfulnessDenominator                                                                                                                                                                                                                                                                                                                                                                                                                                                                                                                                                                                                                                                                                                                                                                                                                                                                                                                                                                                                                                                 0\n",
       "Score                                                                                                                                                                                                                                                                                                                                                                                                                                                                                                                                                                                                                                                                                                                                                                                                                                                                                                                                                                                                                                                                  1\n",
       "Time                                                                                                                                                                                                                                                                                                                                                                                                                                                                                                                                                                                                                                                                                                                                                                                                                                                                                                                                                                                                                                                          1346976000\n",
       "Summary                                                                                                                                                                                                                                                                                                                                                                                                                                                                                                                                                                                                                                                                                                                                                                                                                                                                                                                                                                                                                                                Not as Advertised\n",
       "Paragraph                                                                                                                                                                                                                                                                                                                                                                                                                                                                                                                                                                                                                                                                                                                                                                                                                                                                 Product arrived labeled as Jumbo Salted Peanuts...the peanuts were actually small sized unsalted. Not sure if this was an error or if the vendor intended to represent the product as \"Jumbo\".\n",
       "Paragraph_Cluster                                                                                                                                                                                                                                                                                                                                                                                                                                                                                                                                                                                                                                                                                                                                                                                                                                                                                                                                                                                                                                                   33.0\n",
       "Paragraph_Distance                                                                                                                                                                                                                                                                                                                                                                                                                                                                                                                                                                                                                                                                                                                                                                                                                                                                                                                                                                                                                                              17.03212\n",
       "Summary_Cluster                                                                                                                                                                                                                                                                                                                                                                                                                                                                                                                                                                                                                                                                                                                                                                                                                                                                                                                                                                                                                                                      5.0\n",
       "Summary_Distance                                                                                                                                                                                                                                                                                                                                                                                                                                                                                                                                                                                                                                                                                                                                                                                                                                                                                                                                                                                                                                               22.618835\n",
       "Summary_similarity_distance                                                                                                                                                                                                                                                                                                 [0.0, 0.0, 0.0, 0.0, 0.0, 0.0, 0.0, 0.0, 0.0, 0.0, 0.0, 0.0, 0.0, 0.0, 0.0, 0.0, 0.0, 0.0, 0.0, 0.0, 0.0, 0.0, 0.0, 0.0, 0.0, 0.0, 0.0, 0.0, 0.0, 0.0, 0.0, 0.0, 0.0, 0.0, 0.0, 0.0, 0.0, 0.0, 0.0, 0.0, 0.0, 0.0, 0.0, 0.0, 0.0, 0.0, 0.0, 0.0, 0.0, 0.0, 0.0, 0.0, 0.0, 0.0, 0.0, 0.0, 0.0, 0.0, 0.0, 0.0, 0.0, 0.0, 0.0, 0.0, 11.939728, 15.488022, 15.488022, 15.488022, 15.488022, 15.488022, 15.488022, 15.488022, 15.488022, 15.979706, 15.979706, 15.979706, 15.979706, 15.979706, 15.979706, 15.979706, 15.979706, 15.979706, 15.979706, 15.979706, 15.979706, 17.081116, 20.543747, 20.543762, 22.631714, 23.132614, 23.143692, 23.143692, 23.143692, 23.143692, 23.143692, 23.143692, 23.143723, 23.594696, 23.594696, 23.594696]\n",
       "Summary_similarity_index                                                                                                                                                                                                                                            [285493, 245803, 302250, 188491, 238091, 385681, 124068, 525278, 84093, 502447, 471601, 233145, 301589, 550549, 105148, 509496, 340635, 505927, 551336, 159456, 498994, 333001, 61835, 38098, 471614, 502568, 554822, 281070, 52643, 552588, 299816, 456475, 56069, 97113, 103334, 245682, 1, 100187, 504901, 129328, 373542, 107235, 24316, 269653, 166762, 293678, 4387, 411216, 487862, 300120, 189834, 471611, 88596, 289783, 88783, 271750, 289323, 6730, 389841, 232231, 104754, 380355, 289044, 465643, 185193, 238450, 248736, 109011, 438750, 270473, 459824, 14688, 88857, 555153, 96624, 541753, 519268, 59423, 521283, 507133, 273332, 80110, 168917, 25809, 400982, 317273, 207746, 337754, 238095, 42563, 557294, 545424, 19412, 519757, 470221, 466962, 85880, 227384, 14760, 384498]\n",
       "Paragraph_similarity_distance    [1.5258789e-05, 17.83287, 17.944412, 17.958954, 17.989395, 17.989395, 18.019669, 18.084, 18.110893, 18.297455, 18.330124, 18.418045, 18.422104, 18.576729, 18.577316, 18.603622, 18.617752, 18.634125, 18.799896, 18.923935, 18.932388, 18.935593, 18.935791, 18.945213, 18.95517, 18.989578, 19.05487, 19.079773, 19.136414, 19.177185, 19.177185, 19.179825, 19.179825, 19.191925, 19.208069, 19.225555, 19.229141, 19.231186, 19.23935, 19.344406, 19.42685, 19.442863, 19.458618, 19.485657, 19.494385, 19.49672, 19.535591, 19.550842, 19.554657, 19.556396, 19.568459, 19.570625, 19.577011, 19.577011, 19.577011, 19.577011, 19.577011, 19.608368, 19.61753, 19.618408, 19.624344, 19.624344, 19.624344, 19.624344, 19.624344, 19.624344, 19.624344, 19.624344, 19.636139, 19.638184, 19.639023, 19.640137, 19.641022, 19.659386, 19.673332, 19.697159, 19.70185, 19.71753, 19.719154, 19.719154, 19.78019, 19.791397, 19.804352, 19.805946, 19.805946, 19.805946, 19.819473, 19.824059, 19.824059, 19.824905, 19.82685, 19.8...\n",
       "Paragraph_similarity_index                                                                                                                                                                                                                                   [1, 408473, 459824, 230876, 502381, 245616, 527311, 438658, 349804, 194089, 159471, 142505, 499358, 298688, 491070, 41768, 267807, 334483, 68894, 417287, 309025, 187245, 315377, 275071, 498950, 484232, 438995, 29075, 505004, 31922, 435531, 31813, 435422, 12366, 294553, 147117, 81647, 59750, 58152, 135081, 381083, 381082, 564975, 342293, 387457, 135092, 236790, 231867, 389426, 290343, 540431, 469678, 388590, 238012, 85890, 241155, 126047, 160163, 438134, 142328, 310480, 196808, 368942, 369417, 79443, 420516, 398799, 496167, 265497, 238369, 297794, 198701, 17860, 438705, 432557, 567515, 522180, 118525, 29674, 29122, 239297, 214398, 382645, 477098, 257118, 308293, 508396, 389794, 309039, 444614, 358197, 241758, 435155, 410436, 239152, 502018, 381149, 369686, 348656, 7394]\n",
       "Product Types                                                                                                                                                                                                                                                                                                                                                                                                                                                                                                                                                                                                                                                                                                                                                                                                                                                                                                                                                                                                                                               [snack food]\n",
       "Name: 1, dtype: object"
      ]
     },
     "execution_count": 135,
     "metadata": {},
     "output_type": "execute_result"
    }
   ],
   "source": [
    "df_paragraph.iloc[1]"
   ]
  },
  {
   "cell_type": "code",
   "execution_count": 81,
   "id": "a95bfebd-b5bd-47c9-a777-fa79374231ce",
   "metadata": {},
   "outputs": [
    {
     "data": {
      "text/plain": [
       "Index(['Id', 'ProductId', 'UserId', 'ProfileName', 'HelpfulnessNumerator',\n",
       "       'HelpfulnessDenominator', 'Score', 'Time', 'Summary', 'Paragraph',\n",
       "       'Paragraph_Cluster', 'Paragraph_Distance', 'Summary_Cluster',\n",
       "       'Summary_Distance', 'Summary_similarity_distance',\n",
       "       'Summary_similarity_index', 'Paragraph_similarity_distance',\n",
       "       'Paragraph_similarity_index', 'Product Types'],\n",
       "      dtype='object')"
      ]
     },
     "execution_count": 81,
     "metadata": {},
     "output_type": "execute_result"
    }
   ],
   "source": [
    "df_paragraph.columns"
   ]
  },
  {
   "cell_type": "code",
   "execution_count": 134,
   "id": "c3ff124b-52b0-44b5-b898-c84af6629de1",
   "metadata": {},
   "outputs": [
    {
     "data": {
      "text/plain": [
       "pet food            61\n",
       "snack food          53\n",
       "unclear             13\n",
       "coffee              12\n",
       "tea                  8\n",
       "condiment            8\n",
       "can food             5\n",
       "juice                5\n",
       "baby formula         4\n",
       "baking               3\n",
       "dog treat            3\n",
       "pet treat            3\n",
       "drink                2\n",
       "pasta                2\n",
       "cereal               2\n",
       "sweetener            2\n",
       "spice                2\n",
       "baby food            1\n",
       "bake decoration      1\n",
       "flowers              1\n",
       "noodles              1\n",
       "wine kit             1\n",
       "canning supplies     1\n",
       "dog food             1\n",
       "creamer              1\n",
       "pancake mix          1\n",
       "sauce                1\n",
       "Name: count, dtype: int64"
      ]
     },
     "execution_count": 134,
     "metadata": {},
     "output_type": "execute_result"
    }
   ],
   "source": [
    "from itertools import chain\n",
    "\n",
    "# Flatten the list of lists of product types\n",
    "all_product_types = list(chain.from_iterable(df_paragraph['Product Types']))\n",
    "\n",
    "# Convert to a Series to use value_counts\n",
    "product_type_series = pd.Series(all_product_types)\n",
    "\n",
    "# View the value counts\n",
    "product_type_counts = product_type_series.value_counts()\n",
    "\n",
    "product_type_counts\n"
   ]
  },
  {
   "cell_type": "code",
   "execution_count": null,
   "id": "583b813e-c221-4cca-a9b7-6b4948f3a4cc",
   "metadata": {},
   "outputs": [],
   "source": []
  },
  {
   "cell_type": "code",
   "execution_count": null,
   "id": "98474715-f21d-4ce8-8afe-a57cea162be4",
   "metadata": {},
   "outputs": [],
   "source": []
  },
  {
   "cell_type": "code",
   "execution_count": null,
   "id": "8347b93d-a8ca-487f-a3cf-4ca524a142cf",
   "metadata": {},
   "outputs": [],
   "source": [
    "stop"
   ]
  },
  {
   "cell_type": "code",
   "execution_count": 71,
   "id": "887f6c56-3189-42de-b698-03ca428a0793",
   "metadata": {},
   "outputs": [],
   "source": [
    "# Generate the vector for \"dog food\"\n",
    "dog_food_vector = generate_vectors(\"dog food\")\n"
   ]
  },
  {
   "cell_type": "code",
   "execution_count": 81,
   "id": "c67e1349-13ab-42c7-ab8e-6f80e15e8bb0",
   "metadata": {},
   "outputs": [],
   "source": [
    "zero_vector = generate_vectors(df_paragraph.iloc[0].Paragraph)"
   ]
  },
  {
   "cell_type": "code",
   "execution_count": 83,
   "id": "418c205a-345a-486a-9d6c-51202e0a6722",
   "metadata": {},
   "outputs": [],
   "source": [
    "import numpy as np\n",
    "\n",
    "def cosine_similarity(vec_a, vec_b):\n",
    "    # Compute the cosine similarity between two vectors\n",
    "    dot_product = np.dot(vec_a, vec_b)\n",
    "    norm_a = np.linalg.norm(vec_a)\n",
    "    norm_b = np.linalg.norm(vec_b)\n",
    "    return dot_product / (norm_a * norm_b)\n",
    "\n",
    "\n"
   ]
  },
  {
   "cell_type": "code",
   "execution_count": 84,
   "id": "798ba509-3b04-43f9-a650-3f6690cb38b6",
   "metadata": {},
   "outputs": [
    {
     "name": "stdout",
     "output_type": "stream",
     "text": [
      "Cosine Similarity: [0.5313073]\n"
     ]
    }
   ],
   "source": [
    "# Assuming dog_food_vector and paragraph_vector are your vectors\n",
    "similarity = cosine_similarity(dog_food_vector, zero_vector)\n",
    "print(f\"Cosine Similarity: {similarity}\")"
   ]
  },
  {
   "cell_type": "code",
   "execution_count": 89,
   "id": "d8caceed-4414-4983-bc7b-0ac1e862775e",
   "metadata": {},
   "outputs": [],
   "source": [
    "k = 10000  # Adjust based on how many similar paragraphs you want to find\n",
    "D, I = index_paragraph.search(dog_food_vector.reshape(1, -1), k)  # Reshape dog_food_vector for FAISS compatibility\n"
   ]
  },
  {
   "cell_type": "code",
   "execution_count": 93,
   "id": "dd461e41-b2e8-4f01-9c28-6897976f3b5b",
   "metadata": {},
   "outputs": [
    {
     "data": {
      "text/plain": [
       "True"
      ]
     },
     "execution_count": 93,
     "metadata": {},
     "output_type": "execute_result"
    }
   ],
   "source": [
    "4726 in I"
   ]
  },
  {
   "cell_type": "code",
   "execution_count": 92,
   "id": "1f6f48b4-488b-4a0c-8e2c-4fce75ed3d5f",
   "metadata": {},
   "outputs": [
    {
     "data": {
      "text/plain": [
       "array([[553307, 519333, 393596, ...,  50369, 520330, 520938]], dtype=int64)"
      ]
     },
     "execution_count": 92,
     "metadata": {},
     "output_type": "execute_result"
    }
   ],
   "source": [
    "I"
   ]
  },
  {
   "cell_type": "code",
   "execution_count": 94,
   "id": "167e7af5-b972-47fb-8a14-4867787b4218",
   "metadata": {},
   "outputs": [
    {
     "data": {
      "text/plain": [
       "array([[56.16536 , 57.149216, 59.001614, ..., 71.07399 , 71.07418 ,\n",
       "        71.07418 ]], dtype=float32)"
      ]
     },
     "execution_count": 94,
     "metadata": {},
     "output_type": "execute_result"
    }
   ],
   "source": [
    "D"
   ]
  },
  {
   "cell_type": "code",
   "execution_count": 72,
   "id": "5b730067-d1d3-496d-ac89-273d823bd04a",
   "metadata": {},
   "outputs": [
    {
     "name": "stdout",
     "output_type": "stream",
     "text": [
      "Indices of nearest neighbors: [[553307 519333 393596 508464 204030 335883 366224  19617 165598 392395]]\n",
      "Distances: [[56.16536  57.149216 59.001614 59.131626 59.13763  59.13763  59.13763\n",
      "  59.13763  59.13763  59.13763 ]]\n"
     ]
    }
   ],
   "source": [
    "import faiss\n",
    "\n",
    "# Ensure your FAISS index is properly loaded\n",
    "# For example, if you saved your index to disk: faiss_index = faiss.read_index('path_to_your_index_file')\n",
    "\n",
    "# Prepare the dog food vector for search\n",
    "# The vector should be reshaped to match the dimensions FAISS expects ([1, vector_length])\n",
    "dog_food_vector = dog_food_vector.reshape(1, -1)\n",
    "\n",
    "# Perform the search\n",
    "k = 10  # Number of nearest neighbors you want to find\n",
    "D, I = index_paragraph.search(dog_food_vector, k)  # D: Distances, I: Indices of the nearest neighbors\n",
    "\n",
    "# D and I are arrays containing distances to the query and the indices of the nearest vectors\n",
    "print(\"Indices of nearest neighbors:\", I)\n",
    "print(\"Distances:\", D)"
   ]
  },
  {
   "cell_type": "code",
   "execution_count": 73,
   "id": "af4ebfb2-2fb8-4274-bdc2-37b17a44a017",
   "metadata": {},
   "outputs": [
    {
     "name": "stdout",
     "output_type": "stream",
     "text": [
      "I first tried these after my sister gave me a bag of the <a href=\"http://www.amazon.com/gp/product/B000YT5NFO\">Snack Factory Original Pretzel Crisps</a>.  My family really liked them as a quick snack they could grab a handful of.  I also found them dipping them in sour cream, peanut butter, cream cheese and also adding sliced cheese.  When I saw they had flavored ones, I had to buy them and so far the <a href=\"http://www.amazon.com/gp/product/B000YTC9MO\">Snack Factory Buffalo Wing Pretzel Crisps</a> are our favorites. They don't work well dipped in peanut butter, but are good with all the others including ranch dressing or just by themselves.  Although the size of the bags seem small, because they are so light and crispy, you do receive quite a bit in them. On average I've paid anywhere from $2.50 to $3.50 a bag and I'm okay with that. Definitely give them a try if you like Buffalo Wings!\n",
      "---\n",
      "We switched from the sensitive to the soy similac because my daughter was FREAKING out each night.  I guess the sensitive gave her gas pains, but this didnt!  Definitely worth trying if you have a fussy baby!\n",
      "---\n",
      "Think of the little jar of hot pepper paste that your favorite dim sum or chinese food restaurant serves.  Now put it in a convenient squeeze tube, and keep it in your frig.  Tastes great, and easy to store use.  I find myself putting it on everything.\n",
      "---\n",
      "Normally don't like sugar-free anything, but this candy is wonderful! Initially thought it was odd that buyers could sign up for regular deliveries, but now I understand why - this stuff is that good!\n",
      "---\n",
      "Oh my goodness...I have an 11 year old pug/beagle mix that has been lethargic for about 3 years, wouldn't really play, had a dull coat no matter how much I groomed her, and has had itchy paws and armpits for a long time. I never knew that all of that crap was in the big name brand dog foods. I had always had her on Purina of some sort until I started doing research. I was blown away by what I read and quickly became obsessed with finding a better food without paying an arm and a leg. I refuse to pay more for my dogs food than for our own food. After researching about 30 different dog foods and prices and brands on different websites, I went with Canidae All Life Stages (chicken, turkey, lamb, and fish)via Amazon with free super saver shipping for both my 11 year old Puggle and my new 10 week old labrador retriever puppy. I haven't regretted the change or the purchase at all! I am absolutely thrilled. My 11 year old isn't nearly as itchy, has a crazy shiny coat now, and has ALL KINDS of energy to keep up with the puppy now! Also, the breeder of my new lab had her on Purina Pro Plan Large Breed so I switched her right away and even her coat looks so much better now and it's only been about 3 weeks. I can't wait to see the difference in the two of them over the next 3 or 4 months. They both did get a little bit constipated during the transition period from their old foods to the Canidae, but a little bit of canola oil for a few days drizzled over their breakfast and dinner fixed that until their bodies adjusted. Both are regular now with no problems. Also, during the transition, I couldn't get either of them to eat even one piece of their old food. They would both pick out the Canidae and gobble it up and then leave their old food in the bowl until they were later famished! It was funny to watch!  Great product, great service, and will definitely continue to order the 44 lb bag via Amazon. The packaging was very very poor but that's a different issue. The box that the food was shipped in wasn't even big enough for the bag and the UPS driver brought me the food, with pieces of the box laying on top of the bag. Oh well, I'm still thrilled with the product!<br /><br />UPDATE:  SEVERAL MONTHS LATER, BOTH DOGS ARE STILL DOING FANTASTIC WITH THE CANIDAE FOOD! THE PUPPY'S COAT ACTUALLY SPARKLES LIKE I PUT GLITTER ON HER IN THE SUNLIGHT, IT'S CRAZY. THE PUGGLE IS ONLY SHEDDING A THIRD OF WHAT SHE USED TO AND THE ONLY THING THAT SHE EVER CHEWS ON IS ONE OF HER PAWS AND THE VET GAVE ME A SPRAY FOR THAT. I AM STILL THRILLED WITH THE FOOD AND WITH AMAZON'S PRICE AND THE FREE SHIPPING!\n",
      "---\n",
      "My dogs have been eating Canidae for years.  They have always done well on the food.  Currently, I have three dogs and they have had no issues with the new formulations.  I have to say that my black lab mix has an even brighter coat than before.  I love that they came out with a 44# bag.  With three dogs I go through a lot of dog food.  I definitely recommend this food.\n",
      "---\n",
      "Our 2 Vizslas have done very well with this food since we switched from Foster Smith food last year.\n",
      "---\n",
      "My dogs just love this food. The service is always fast and reliable.\n",
      "---\n",
      "I like <a href=\"http://www.amazon.com/gp/product/B0018CEABE\">Canidae Dry Dog Food, Chicken Meal and Rice Formula, 5 Pound Bag</a> more than this flavor, and I suspect my pooch does too. We have similar tastes, is what I'm trying to say. The beef and fish meal gives her the worst fish breath imaginable. I don't know if the food causes her to want to try giving me face kisses more than normal, but every time she gets near me after eating this her breath is like a shotgun of stank.\n",
      "---\n",
      "This food is amazing.  When I got my dog she was being fed Canidae.  I saw how clean her coat was and how healthy she looked.  So I went and got the cat version.  My big cat has lost weight and looks the best he has in years.  My little kitten is as healthy as can be.  She is now gaining good amounts of weight, but not getting plump.  It is not like other cat foods that are like McDonalds for pets.  No sudden highs and lows after eating.  I thought pet food was just pet food, but I will never change this food for my pets. It is so amazing!!!  Give it a few weeks and you will see the same.\n",
      "---\n"
     ]
    }
   ],
   "source": [
    "# Assuming df_paragraph is your DataFrame and it's indexed in a way that aligns with the FAISS index\n",
    "for idx in I[0]:  # Loop through each index found by FAISS\n",
    "    # Retrieve and print the corresponding paragraph\n",
    "    print(df_paragraph.loc[idx, 'Paragraph'])\n",
    "    print(\"---\")\n"
   ]
  },
  {
   "cell_type": "code",
   "execution_count": null,
   "id": "3de9616c-b84d-4698-a67f-f6f0014f1f59",
   "metadata": {},
   "outputs": [],
   "source": []
  },
  {
   "cell_type": "code",
   "execution_count": null,
   "id": "35d8e070-a3d6-4512-86a8-cac3168ef756",
   "metadata": {},
   "outputs": [],
   "source": []
  },
  {
   "cell_type": "code",
   "execution_count": null,
   "id": "0b82f582-6a9c-441f-8aa5-7813ad0797b5",
   "metadata": {},
   "outputs": [],
   "source": []
  },
  {
   "cell_type": "code",
   "execution_count": null,
   "id": "f1bb5489-f2a6-40b2-8309-3f489abcadb9",
   "metadata": {},
   "outputs": [],
   "source": [
    "for "
   ]
  },
  {
   "cell_type": "code",
   "execution_count": null,
   "id": "a244e160-815e-4c35-b01a-42d92aab6fbf",
   "metadata": {},
   "outputs": [],
   "source": []
  },
  {
   "cell_type": "code",
   "execution_count": null,
   "id": "83d05267-5086-4e32-b134-4c413750c09d",
   "metadata": {},
   "outputs": [],
   "source": []
  },
  {
   "cell_type": "code",
   "execution_count": null,
   "id": "88185abf-9d23-4cf1-b7dc-76104a377827",
   "metadata": {},
   "outputs": [],
   "source": []
  },
  {
   "cell_type": "code",
   "execution_count": 38,
   "id": "72d411b4-ea1a-40c7-a8a1-3ac949e5354d",
   "metadata": {},
   "outputs": [
    {
     "data": {
      "text/plain": [
       "pandas.core.series.Series"
      ]
     },
     "execution_count": 38,
     "metadata": {},
     "output_type": "execute_result"
    }
   ],
   "source": [
    "paragraph = df_paragraph.iloc[0:30].Paragraph\n",
    "type(paragraph)"
   ]
  },
  {
   "cell_type": "code",
   "execution_count": 29,
   "id": "31a9079d-df7d-42c7-bbf4-c670be21766a",
   "metadata": {},
   "outputs": [
    {
     "name": "stdout",
     "output_type": "stream",
     "text": [
      "Good Quality Dog Food\n"
     ]
    }
   ],
   "source": [
    "summary = df_paragraph.iloc[0].Summary\n",
    "print(summary)"
   ]
  },
  {
   "cell_type": "code",
   "execution_count": 30,
   "id": "34f5d8d9-4f27-4920-af84-47cb2eaa65e5",
   "metadata": {},
   "outputs": [
    {
     "data": {
      "text/plain": [
       "0                                 Good Quality Dog Food\n",
       "1                                     Not as Advertised\n",
       "2                                 \"Delight\" says it all\n",
       "3                                        Cough Medicine\n",
       "4                                           Great taffy\n",
       "5                                            Nice Taffy\n",
       "6         Great!  Just as good as the expensive brands!\n",
       "7                                Wonderful, tasty taffy\n",
       "8                                            Yay Barley\n",
       "9                                      Healthy Dog Food\n",
       "10                      The Best Hot Sauce in the World\n",
       "11    My cats LOVE this \"diet\" food better than thei...\n",
       "12                 My Cats Are Not Fans of the New Food\n",
       "13                                    fresh and greasy!\n",
       "14                         Strawberry Twizzlers - Yummy\n",
       "15             Lots of twizzlers, just what you expect.\n",
       "16                                           poor taste\n",
       "17                                             Love it!\n",
       "18                                   GREAT SWEET CANDY!\n",
       "19                              Home delivered twizlers\n",
       "20                                         Always fresh\n",
       "21                                            TWIZZLERS\n",
       "22                                   Delicious product!\n",
       "23                                            Twizzlers\n",
       "24                        Please sell these in Mexico!!\n",
       "25                               Twizzlers - Strawberry\n",
       "26                                      Nasty No flavor\n",
       "27                          Great Bargain for the Price\n",
       "28                                               YUMMY!\n",
       "29                      The Best Hot Sauce in the World\n",
       "Name: Summary, dtype: object"
      ]
     },
     "execution_count": 30,
     "metadata": {},
     "output_type": "execute_result"
    }
   ],
   "source": [
    "df_paragraph.iloc[0:30].Summary"
   ]
  },
  {
   "cell_type": "code",
   "execution_count": 15,
   "id": "3aadf3f1-678e-425e-a068-d107431167dd",
   "metadata": {},
   "outputs": [
    {
     "name": "stdout",
     "output_type": "stream",
     "text": [
      "I have bought several of the Vitality canned dog food products and have found them all to be of good quality. The product looks more like a stew than a processed meat and it smells better. My Labrador is finicky and she appreciates this product better than  most.\n"
     ]
    }
   ],
   "source": [
    "context = df_paragraph.iloc[0].Paragraph\n",
    "print(context)"
   ]
  },
  {
   "cell_type": "code",
   "execution_count": 27,
   "id": "e45f4e8e-05fc-471e-89ce-774a358e3445",
   "metadata": {},
   "outputs": [
    {
     "name": "stderr",
     "output_type": "stream",
     "text": [
      "Some weights of BertForQuestionAnswering were not initialized from the model checkpoint at bert-base-uncased and are newly initialized: ['qa_outputs.bias', 'qa_outputs.weight']\n",
      "You should probably TRAIN this model on a down-stream task to be able to use it for predictions and inference.\n"
     ]
    },
    {
     "name": "stdout",
     "output_type": "stream",
     "text": [
      "Question: What product is the paragraph about?\n",
      "Answer: of good quality. The\n"
     ]
    }
   ],
   "source": [
    "from transformers import pipeline\n",
    "\n",
    "# Load a pre-trained model and tokenizer for question answering\n",
    "question_answering_pipeline = pipeline(\"question-answering\", model=\"bert-base-uncased\")\n",
    "\n",
    "# Your sample paragraph\n",
    "#context = 'I have bought several of the Vitality canned dog food products and have found them all to be of good quality. The product looks more like a stew than a processed meat and it smells better. My Labrador is finicky and she appreciates this product better than most.'\n",
    "\n",
    "# Formulate a question\n",
    "question = \"What product is the paragraph about?\"\n",
    "\n",
    "# Use the model to find the answer\n",
    "answer = question_answering_pipeline({'question': question, 'context': context})\n",
    "\n",
    "print(f\"Question: {question}\")\n",
    "print(f\"Answer: {answer['answer']}\")\n"
   ]
  },
  {
   "cell_type": "code",
   "execution_count": 20,
   "id": "315fff7e-7158-4bd5-b810-1d2a3eb90f74",
   "metadata": {},
   "outputs": [
    {
     "name": "stderr",
     "output_type": "stream",
     "text": [
      "Some weights of BertForQuestionAnswering were not initialized from the model checkpoint at bert-base-uncased and are newly initialized: ['qa_outputs.bias', 'qa_outputs.weight']\n",
      "You should probably TRAIN this model on a down-stream task to be able to use it for predictions and inference.\n"
     ]
    },
    {
     "ename": "NameError",
     "evalue": "name 'train_dataset' is not defined",
     "output_type": "error",
     "traceback": [
      "\u001b[1;31m---------------------------------------------------------------------------\u001b[0m",
      "\u001b[1;31mNameError\u001b[0m                                 Traceback (most recent call last)",
      "Cell \u001b[1;32mIn[20], line 21\u001b[0m\n\u001b[0;32m      5\u001b[0m training_args \u001b[38;5;241m=\u001b[39m TrainingArguments(\n\u001b[0;32m      6\u001b[0m     output_dir\u001b[38;5;241m=\u001b[39m\u001b[38;5;124m'\u001b[39m\u001b[38;5;124m./models/\u001b[39m\u001b[38;5;124m'\u001b[39m,\n\u001b[0;32m      7\u001b[0m     num_train_epochs\u001b[38;5;241m=\u001b[39m\u001b[38;5;241m3\u001b[39m,\n\u001b[1;32m   (...)\u001b[0m\n\u001b[0;32m     14\u001b[0m     logging_steps\u001b[38;5;241m=\u001b[39m\u001b[38;5;241m50\u001b[39m, \u001b[38;5;66;03m# Log metrics every 50 steps\u001b[39;00m\n\u001b[0;32m     15\u001b[0m )\n\u001b[0;32m     17\u001b[0m \u001b[38;5;66;03m# Assuming `train_dataset` and `eval_dataset` are already defined\u001b[39;00m\n\u001b[0;32m     18\u001b[0m trainer \u001b[38;5;241m=\u001b[39m Trainer(\n\u001b[0;32m     19\u001b[0m     model\u001b[38;5;241m=\u001b[39mmodel,\n\u001b[0;32m     20\u001b[0m     args\u001b[38;5;241m=\u001b[39mtraining_args,\n\u001b[1;32m---> 21\u001b[0m     train_dataset\u001b[38;5;241m=\u001b[39m\u001b[43mtrain_dataset\u001b[49m,\n\u001b[0;32m     22\u001b[0m     eval_dataset\u001b[38;5;241m=\u001b[39meval_dataset\n\u001b[0;32m     23\u001b[0m )\n\u001b[0;32m     25\u001b[0m trainer\u001b[38;5;241m.\u001b[39mtrain()\n",
      "\u001b[1;31mNameError\u001b[0m: name 'train_dataset' is not defined"
     ]
    }
   ],
   "source": [
    "from transformers import BertForQuestionAnswering, Trainer, TrainingArguments\n",
    "\n",
    "model = BertForQuestionAnswering.from_pretrained('bert-base-uncased')\n",
    "\n",
    "training_args = TrainingArguments(\n",
    "    output_dir='./models/',\n",
    "    num_train_epochs=3,\n",
    "    per_device_train_batch_size=12,\n",
    "    per_device_eval_batch_size=12,\n",
    "    warmup_steps=500,\n",
    "    weight_decay=0.01,\n",
    "    logging_dir='./logs/',\n",
    "    evaluation_strategy='steps', # Adjust this based on how often you want to evaluate\n",
    "    logging_steps=50, # Log metrics every 50 steps\n",
    ")\n",
    "\n",
    "# Assuming `train_dataset` and `eval_dataset` are already defined\n",
    "trainer = Trainer(\n",
    "    model=model,\n",
    "    args=training_args,\n",
    "    train_dataset=train_dataset,\n",
    "    eval_dataset=eval_dataset\n",
    ")\n",
    "\n",
    "trainer.train()\n"
   ]
  },
  {
   "cell_type": "code",
   "execution_count": 21,
   "id": "9d38a1ec-330d-4ea4-965a-14af850bfd56",
   "metadata": {},
   "outputs": [
    {
     "name": "stderr",
     "output_type": "stream",
     "text": [
      "d:\\anaconda3\\lib\\site-packages\\torch\\utils\\data\\dataset.py:414: UserWarning: Length of split at index 0 is 0. This might result in an empty dataset.\n",
      "  warnings.warn(f\"Length of split at index {i} is 0. \"\n"
     ]
    }
   ],
   "source": [
    "from transformers import BertTokenizerFast\n",
    "import torch\n",
    "from torch.utils.data import Dataset, DataLoader\n",
    "\n",
    "tokenizer = BertTokenizerFast.from_pretrained('bert-base-uncased')\n",
    "\n",
    "class QuestionAnsweringDataset(Dataset):\n",
    "    def __init__(self, contexts, questions, answers):\n",
    "        self.contexts = contexts\n",
    "        self.questions = questions\n",
    "        self.answers = answers\n",
    "    \n",
    "    def __len__(self):\n",
    "        return len(self.contexts)\n",
    "    \n",
    "    def __getitem__(self, idx):\n",
    "        context = self.contexts[idx]\n",
    "        question = self.questions[idx]\n",
    "        answer_text = self.answers[idx]['text']\n",
    "        start_position = self.answers[idx]['answer_start']\n",
    "        end_position = start_position + len(answer_text)\n",
    "\n",
    "        # Tokenize context and question\n",
    "        encodings = tokenizer.encode_plus(question, context, return_tensors='pt', max_length=512, truncation=True, padding='max_length')\n",
    "        input_ids = encodings['input_ids'].squeeze()\n",
    "        attention_mask = encodings['attention_mask'].squeeze()\n",
    "\n",
    "        # Find positions of answer tokens in context\n",
    "        answer_ids = tokenizer.encode(answer_text, add_special_tokens=False)\n",
    "        tokens = tokenizer.convert_ids_to_tokens(input_ids)\n",
    "        answer_start_positions = [i for i, token in enumerate(tokens) if token == tokenizer.convert_ids_to_tokens(answer_ids)[0]]\n",
    "        answer_end_positions = [i for i, token in enumerate(tokens) if token == tokenizer.convert_ids_to_tokens(answer_ids)[-1]]\n",
    "        \n",
    "        # Handling cases where the answer is truncated due to max_length\n",
    "        start_position = answer_start_positions[0] if len(answer_start_positions) > 0 else 0\n",
    "        end_position = answer_end_positions[0] if len(answer_end_positions) > 0 else 0\n",
    "\n",
    "        return {\n",
    "            'input_ids': input_ids,\n",
    "            'attention_mask': attention_mask,\n",
    "            'start_positions': torch.tensor(start_position),\n",
    "            'end_positions': torch.tensor(end_position)\n",
    "        }\n",
    "\n",
    "# Example data (replace with your actual data)\n",
    "contexts = [\"This is a context paragraph about the Transformers library. Transformers provides access to thousands of pre-trained models.\"]\n",
    "questions = [\"What does the Transformers library provide?\"]\n",
    "answers = [{\"text\": \"access to thousands of pre-trained models\", \"answer_start\": 37}]\n",
    "\n",
    "# Create dataset\n",
    "dataset = QuestionAnsweringDataset(contexts, questions, answers)\n",
    "\n",
    "# Splitting the dataset into training and evaluation sets\n",
    "train_size = int(0.8 * len(dataset))\n",
    "val_size = len(dataset) - train_size\n",
    "train_dataset, eval_dataset = torch.utils.data.random_split(dataset, [train_size, val_size])\n"
   ]
  },
  {
   "cell_type": "code",
   "execution_count": 22,
   "id": "ddd976d6-7f69-4431-b22f-f634224f7f15",
   "metadata": {},
   "outputs": [
    {
     "name": "stdout",
     "output_type": "stream",
     "text": [
      "1 1 1\n"
     ]
    }
   ],
   "source": [
    "print(len(contexts), len(questions), len(answers))\n"
   ]
  },
  {
   "cell_type": "code",
   "execution_count": 23,
   "id": "028fc1bb-6050-4976-82ed-57c85842871b",
   "metadata": {},
   "outputs": [
    {
     "data": {
      "text/plain": [
       "['This is a context paragraph about the Transformers library. Transformers provides access to thousands of pre-trained models.']"
      ]
     },
     "execution_count": 23,
     "metadata": {},
     "output_type": "execute_result"
    }
   ],
   "source": [
    "contexts"
   ]
  },
  {
   "cell_type": "code",
   "execution_count": 24,
   "id": "3f333817-53d1-4fd3-87a6-4ecaf5b99a86",
   "metadata": {},
   "outputs": [
    {
     "data": {
      "text/plain": [
       "['What does the Transformers library provide?']"
      ]
     },
     "execution_count": 24,
     "metadata": {},
     "output_type": "execute_result"
    }
   ],
   "source": [
    "questions"
   ]
  },
  {
   "cell_type": "code",
   "execution_count": 25,
   "id": "8fc48d41-31a7-4f04-a793-0e3d3e2c39ad",
   "metadata": {},
   "outputs": [
    {
     "data": {
      "text/plain": [
       "[{'text': 'access to thousands of pre-trained models', 'answer_start': 37}]"
      ]
     },
     "execution_count": 25,
     "metadata": {},
     "output_type": "execute_result"
    }
   ],
   "source": [
    "answers"
   ]
  },
  {
   "cell_type": "code",
   "execution_count": null,
   "id": "856e2586-7c3c-494e-a85a-4c774a35ebb8",
   "metadata": {},
   "outputs": [],
   "source": []
  }
 ],
 "metadata": {
  "kernelspec": {
   "display_name": "Python 3 (ipykernel)",
   "language": "python",
   "name": "python3"
  },
  "language_info": {
   "codemirror_mode": {
    "name": "ipython",
    "version": 3
   },
   "file_extension": ".py",
   "mimetype": "text/x-python",
   "name": "python",
   "nbconvert_exporter": "python",
   "pygments_lexer": "ipython3",
   "version": "3.9.18"
  }
 },
 "nbformat": 4,
 "nbformat_minor": 5
}
